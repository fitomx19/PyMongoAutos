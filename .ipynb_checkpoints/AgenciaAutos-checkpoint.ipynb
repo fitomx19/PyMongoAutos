{
 "cells": [
  {
   "cell_type": "markdown",
   "metadata": {},
   "source": [
    "# Proyecto Agencia de Renta de Autos\n",
    "\n",
    "#### Materia Bases de Datos Avanzadas\n",
    "\n",
    "##### Profesor Alex Botello\n",
    "\n",
    "### Por: \n",
    "\n",
    "- Huerta Ramírez Michael Adolfo.\n",
    "- Guerrero Paisano Jesedh.\n",
    "- Roman Pardo Alejandro.\n",
    "- Ramírez Montiel Alejandro\n",
    "\n",
    "------------------------------------------------------------------------------------------------------------------------------------------------------------------------\n"
   ]
  },
  {
   "cell_type": "markdown",
   "metadata": {},
   "source": [
    "## Descripcion "
   ]
  },
  {
   "cell_type": "markdown",
   "metadata": {},
   "source": [
    "En este trabajo vamos a enumerar los pasos a seguir para crear la base de Datos en MongoDB para asi poderla consultar a traves de este notebook escrito con el lenguaje Python\n",
    "\n",
    "- Creamos un Archivo Generando Nombres de Empleados, Sucursales y Clientes a traves de iteraciones con Python y diccionarios obtenidos en la red\n",
    "- Realizamos Web Scrapping , a venta de autos, las paginas de renta tienen mucha proteccion de scrapping \n",
    "- Exportamos a CSV los dataframes creados\n",
    "- Importamos con la herramienta grafica de MongoDBCompass los csv y los agregamos a las tablas, más que nada las tablas catalogo\n",
    "- Para las tablas que forman parte de la operacion en este documento iteraremos las diferentes operaciones con el fin de Generar datos lo más precisos posibles\n",
    "- Vamos a contestar las preguntas generadas en las reglas de negocio apoyandonos de graficas a partir de la libreria matplotlib\n"
   ]
  },
  {
   "cell_type": "markdown",
   "metadata": {},
   "source": [
    "#### 1.-Conexion a la Base de datos\n"
   ]
  },
  {
   "cell_type": "code",
   "execution_count": 82,
   "metadata": {},
   "outputs": [],
   "source": [
    "# Creamos la base de datos\n",
    "#import pymongo\n",
    "#myclient = pymongo.MongoClient(\"mongodb://localhost:27017/\")\n",
    "#mydb = myclient[\"RentaVehiculos\"]"
   ]
  },
  {
   "cell_type": "code",
   "execution_count": 83,
   "metadata": {},
   "outputs": [
    {
     "data": {
      "text/plain": [
       "Database(MongoClient(host=['localhost:27017'], document_class=dict, tz_aware=False, connect=True), 'RentaVehiculos')"
      ]
     },
     "execution_count": 83,
     "metadata": {},
     "output_type": "execute_result"
    }
   ],
   "source": [
    "import pymongo\n",
    "import json\n",
    "from pymongo import MongoClient\n",
    "client = MongoClient('localhost', 27017)\n",
    "db = client['RentaVehiculos']\n",
    "db\n"
   ]
  },
  {
   "cell_type": "code",
   "execution_count": 84,
   "metadata": {},
   "outputs": [
    {
     "name": "stdout",
     "output_type": "stream",
     "text": [
      "['Autos', 'Reservacion', 'Clientes', 'Sucursales', 'Empleados', 'TicketRenta']\n"
     ]
    }
   ],
   "source": [
    "print(db.list_collection_names())\n"
   ]
  },
  {
   "cell_type": "markdown",
   "metadata": {},
   "source": [
    "![image.png](./ScreenShots/1.png)\n",
    "Creacion BD"
   ]
  },
  {
   "cell_type": "markdown",
   "metadata": {},
   "source": [
    "![image.png](./ScreenShots/2.png)\n",
    "Creacion BD"
   ]
  },
  {
   "cell_type": "markdown",
   "metadata": {},
   "source": [
    "![image.png](./ScreenShots/3.png)\n",
    "Creacion BD"
   ]
  },
  {
   "cell_type": "markdown",
   "metadata": {},
   "source": [
    "2.- imprimimos todos los clientes en la BD"
   ]
  },
  {
   "cell_type": "code",
   "execution_count": 85,
   "metadata": {},
   "outputs": [
    {
     "name": "stdout",
     "output_type": "stream",
     "text": [
      "Numero de documentos : 99\n",
      "{'Apellido': 'Lillo Amo',\n",
      " 'Direccion': 'CountryOlive',\n",
      " 'Email': 'TSAT231020003588@outlook.com',\n",
      " 'FechaNacimiento': '26/03/1997',\n",
      " 'INE': '810515',\n",
      " 'Idioma': 'Ingles/Español',\n",
      " 'Nombre': 'Valentín',\n",
      " 'RFC': 'VLIA26031997982',\n",
      " 'Telefono': '55889597',\n",
      " '_id': ObjectId('629cc53dddb894567833c2b8')}\n",
      "{'Apellido': 'Téllez',\n",
      " 'Direccion': 'Street,VenezuelaHeather',\n",
      " 'Email': 'YMAA050619819712@hotmail.com',\n",
      " 'FechaNacimiento': '09/03/1976',\n",
      " 'INE': '412346',\n",
      " 'Idioma': 'Ingles',\n",
      " 'Nombre': 'Regina',\n",
      " 'RFC': 'RTÉL09031976739',\n",
      " 'Telefono': '55951632',\n",
      " '_id': ObjectId('629cc53dddb894567833c2b9')}\n",
      "{'Apellido': 'Rogelio Cuenca Roca',\n",
      " 'Direccion': 'Lane,VenezuelaCedar',\n",
      " 'Email': 'ADER260419991673@outlook.com',\n",
      " 'FechaNacimiento': '19/12/1987',\n",
      " 'INE': '409106',\n",
      " 'Idioma': 'Español',\n",
      " 'Nombre': 'Emigdio',\n",
      " 'RFC': 'EROC19121987946',\n",
      " 'Telefono': '55521701',\n",
      " '_id': ObjectId('629cc53dddb894567833c2ba')}\n"
     ]
    }
   ],
   "source": [
    "from pprint import pprint\n",
    "mycol = db[\"Clientes\"]\n",
    "y = mycol.count_documents({})\n",
    "print(\"Numero de documentos :\", y)\n",
    "for x in mycol.find().limit(3):\n",
    "    pprint(x)\n"
   ]
  },
  {
   "cell_type": "markdown",
   "metadata": {},
   "source": [
    "3.- Checamos 3 vehiculos existentes\n"
   ]
  },
  {
   "cell_type": "code",
   "execution_count": 86,
   "metadata": {},
   "outputs": [
    {
     "name": "stdout",
     "output_type": "stream",
     "text": [
      "Numero de documentos : 30\n",
      "{'Auto': ' Chevrolet Spark',\n",
      " 'Color': 'Blanco',\n",
      " 'Combustible': 'Gasolina',\n",
      " 'Kilometraje': 30500,\n",
      " 'Modelo': '2017',\n",
      " 'Placa': '229-PKL',\n",
      " 'Renta': 288,\n",
      " '_id': ObjectId('629cd257ddb894567833c352')}\n",
      "{'Auto': ' Chevrolet Spark',\n",
      " 'Color': 'Rojo',\n",
      " 'Combustible': 'Gasolina',\n",
      " 'Kilometraje': 28464,\n",
      " 'Modelo': ' 2016',\n",
      " 'Placa': '739-UH4',\n",
      " 'Renta': 918,\n",
      " '_id': ObjectId('629cd257ddb894567833c353')}\n",
      "{'Auto': ' Chevrolet Aveo',\n",
      " 'Color': 'Gris',\n",
      " 'Combustible': 'Diesel',\n",
      " 'Kilometraje': 78158,\n",
      " 'Modelo': ' 2016',\n",
      " 'Placa': '443-GXS',\n",
      " 'Renta': 520,\n",
      " '_id': ObjectId('629cd257ddb894567833c354')}\n"
     ]
    }
   ],
   "source": [
    "from pprint import pprint\n",
    "mycolVehiculos = db[\"Autos\"]\n",
    "y = mycolVehiculos.count_documents({})\n",
    "print(\"Numero de documentos :\", y)\n",
    "for x in mycolVehiculos.find().limit(3):\n",
    "    pprint(x)\n"
   ]
  },
  {
   "cell_type": "markdown",
   "metadata": {},
   "source": [
    "### Creamos la tabla Reservaciones"
   ]
  },
  {
   "cell_type": "code",
   "execution_count": 87,
   "metadata": {},
   "outputs": [],
   "source": [
    "#NuevaColeccionReservaciones = db[\"Reservaciones\"]"
   ]
  },
  {
   "cell_type": "markdown",
   "metadata": {},
   "source": [
    "Cargaremos en tres listas los diferentes ID para crear de manera dinamica la tabla de reservaciones\n"
   ]
  },
  {
   "cell_type": "code",
   "execution_count": 88,
   "metadata": {},
   "outputs": [],
   "source": [
    "idCliente = []\n",
    "mycol = db[\"Clientes\"]\n",
    "for x in mycol.find():\n",
    "    idCliente.append((x[\"_id\"]))\n"
   ]
  },
  {
   "cell_type": "code",
   "execution_count": 89,
   "metadata": {},
   "outputs": [],
   "source": [
    "idAutos = []\n",
    "colAutos = db[\"Autos\"]\n",
    "for x in colAutos.find():\n",
    "    idAutos.append((x[\"_id\"]))\n"
   ]
  },
  {
   "cell_type": "code",
   "execution_count": 90,
   "metadata": {},
   "outputs": [],
   "source": [
    "idEmpleados = []\n",
    "colEmpleados = db[\"Empleados\"]\n",
    "for x in colEmpleados.find():\n",
    "    idEmpleados.append((x[\"_id\"]))\n"
   ]
  },
  {
   "cell_type": "code",
   "execution_count": 91,
   "metadata": {},
   "outputs": [],
   "source": [
    "#pip install faker"
   ]
  },
  {
   "cell_type": "code",
   "execution_count": 92,
   "metadata": {},
   "outputs": [],
   "source": [
    "\n",
    "import json\n",
    "import random as rd\n",
    "import datetime\n",
    "from datetime import date\n",
    "from bson import json_util\n",
    "import csv\n",
    "from pathlib import Path\n",
    "import pandas as pd\n",
    "from faker import Faker\n",
    "fake = Faker()\n",
    "from datetime import datetime\n"
   ]
  },
  {
   "cell_type": "markdown",
   "metadata": {},
   "source": [
    "4.- Generamos aletoriamente las fechas de renta de vehiculos"
   ]
  },
  {
   "cell_type": "code",
   "execution_count": 93,
   "metadata": {},
   "outputs": [],
   "source": [
    "def generarFechas():\n",
    "    #start_date = datetime.date(year=2018, month=1, day=1)\n",
    "    #end_date = datetime.date(year=2022, month=6, day=6)\n",
    "    #inicio  = fake.date_between(start_date=, end_date=end_date)\n",
    "    #fin  = fake.date_between(start_date=end_date, end_date='+2m')\n",
    "    a  = fake.date_between_dates(date_start=datetime(2019,1,1), date_end=datetime(2019,3,20))\n",
    "    b = fake.date_between_dates(date_start=datetime(2019,3,20), date_end=datetime(2020,5,10))\n",
    "    return a,b   "
   ]
  },
  {
   "cell_type": "code",
   "execution_count": 94,
   "metadata": {},
   "outputs": [
    {
     "data": {
      "text/plain": [
       "(datetime.date(2019, 3, 4), datetime.date(2020, 4, 26))"
      ]
     },
     "execution_count": 94,
     "metadata": {},
     "output_type": "execute_result"
    }
   ],
   "source": [
    "generarFechas()"
   ]
  },
  {
   "cell_type": "code",
   "execution_count": 95,
   "metadata": {},
   "outputs": [
    {
     "name": "stdout",
     "output_type": "stream",
     "text": [
      "2019-01-19\n",
      "2019-05-03\n"
     ]
    }
   ],
   "source": [
    "print(generarFechas()[0])\n",
    "print(generarFechas()[1])"
   ]
  },
  {
   "cell_type": "code",
   "execution_count": 96,
   "metadata": {},
   "outputs": [],
   "source": [
    "# Datos para ser escrito el diccionario que creara un dump de csv\n",
    "idClientes = []\n",
    "idVendedor = []\n",
    "idVehiculo = []\n",
    "StatusReserva = []\n",
    "FechasSalida = []\n",
    "FechasIngreso = []\n",
    "rd.seed(3)\n",
    "for x in range(40):\n",
    "    idClientes.append(idCliente[rd.randint(0, len(idCliente)-1)])\n",
    "    idVendedor.append(idEmpleados[rd.randint(0, len(idEmpleados)-1)])\n",
    "    idVehiculo.append(idAutos[rd.randint(0, len(idAutos)-1)])\n",
    "    StatusReserva.append(rd.randint(0, 3))\n",
    "    FechasSalida.append(generarFechas()[0])\n",
    "    FechasIngreso.append(generarFechas()[1])"
   ]
  },
  {
   "cell_type": "markdown",
   "metadata": {},
   "source": [
    "Creamos una tabla con la libreria pandas para ordenar nuestra informacion y despues guardarla como CSV"
   ]
  },
  {
   "cell_type": "code",
   "execution_count": 97,
   "metadata": {},
   "outputs": [],
   "source": [
    "\n",
    "Reservacion = pd.DataFrame(list(zip(idClientes, idVendedor, idVehiculo, StatusReserva, FechasSalida, FechasIngreso)),\n",
    "                           columns=['idCliente', 'idEmpleado', 'idVehiculo', 'StatusReserva', 'FechaSalida', 'FechaIngreso'])\n",
    "ReservacionDataFrame = Reservacion"
   ]
  },
  {
   "cell_type": "markdown",
   "metadata": {},
   "source": [
    "5.- Guardamos como CSV"
   ]
  },
  {
   "cell_type": "code",
   "execution_count": 98,
   "metadata": {},
   "outputs": [],
   "source": [
    "# Autos\n",
    "filepath = Path('CSV/Reservacion.csv')\n",
    "filepath.parent.mkdir(parents=True, exist_ok=True)\n",
    "Reservacion.to_csv(filepath)"
   ]
  },
  {
   "cell_type": "markdown",
   "metadata": {},
   "source": [
    "- 6.- Primera Consulta a Realizar\n",
    "Buscaremos el id de este vehiculo en las rentas 629cd257ddb894567833c365, para ver cuantas veces aparece visualemnte"
   ]
  },
  {
   "cell_type": "code",
   "execution_count": 99,
   "metadata": {},
   "outputs": [
    {
     "name": "stdout",
     "output_type": "stream",
     "text": [
      "{'FechaIngreso': datetime.datetime(2022, 4, 20, 0, 0),\n",
      " 'FechaSalida': datetime.datetime(2020, 3, 14, 0, 0),\n",
      " 'StatusReserva': 2,\n",
      " '_id': ObjectId('629ceff1fdb2f724e1b127e2'),\n",
      " 'idCliente': ObjectId('629cc53dddb894567833c316'),\n",
      " 'idEmpleado': ObjectId('629cc8a5ddb894567833c328'),\n",
      " 'idVehiculo': ObjectId('629cd257ddb894567833c365')}\n",
      "{'FechaIngreso': datetime.datetime(2019, 3, 23, 0, 0),\n",
      " 'FechaSalida': datetime.datetime(2019, 1, 22, 0, 0),\n",
      " 'StatusReserva': 1,\n",
      " '_id': ObjectId('629ceff1fdb2f724e1b127e7'),\n",
      " 'idCliente': ObjectId('629cc53dddb894567833c2f3'),\n",
      " 'idEmpleado': ObjectId('629cc8a5ddb894567833c33b'),\n",
      " 'idVehiculo': ObjectId('629cd257ddb894567833c365')}\n",
      "{'FechaIngreso': datetime.datetime(2022, 1, 8, 0, 0),\n",
      " 'FechaSalida': datetime.datetime(2021, 4, 15, 0, 0),\n",
      " 'StatusReserva': 0,\n",
      " '_id': ObjectId('629ceff1fdb2f724e1b127f8'),\n",
      " 'idCliente': ObjectId('629cc53dddb894567833c2bf'),\n",
      " 'idEmpleado': ObjectId('629cc8a5ddb894567833c340'),\n",
      " 'idVehiculo': ObjectId('629cd257ddb894567833c365')}\n",
      "{'FechaIngreso': datetime.datetime(2022, 3, 18, 0, 0),\n",
      " 'FechaSalida': datetime.datetime(2019, 3, 26, 0, 0),\n",
      " 'StatusReserva': 1,\n",
      " '_id': ObjectId('629ceff1fdb2f724e1b12805'),\n",
      " 'idCliente': ObjectId('629cc53dddb894567833c2e2'),\n",
      " 'idEmpleado': ObjectId('629cc8a5ddb894567833c32b'),\n",
      " 'idVehiculo': ObjectId('629cd257ddb894567833c365')}\n",
      "{'FechaIngreso': datetime.datetime(2019, 2, 5, 0, 0),\n",
      " 'FechaSalida': datetime.datetime(2021, 1, 17, 0, 0),\n",
      " 'StatusReserva': 2,\n",
      " '_id': ObjectId('629ceff1fdb2f724e1b12825'),\n",
      " 'idCliente': ObjectId('629cc53dddb894567833c301'),\n",
      " 'idEmpleado': ObjectId('629cc8a5ddb894567833c323'),\n",
      " 'idVehiculo': ObjectId('629cd257ddb894567833c365')}\n"
     ]
    }
   ],
   "source": [
    "\n",
    "from bson.objectid import ObjectId\n",
    "mycol2 = db[\"Reservacion\"]\n",
    "for x in mycol2.find({\"idVehiculo\": ObjectId(\"629cd257ddb894567833c365\")}):\n",
    "    pprint(x)"
   ]
  },
  {
   "cell_type": "markdown",
   "metadata": {},
   "source": [
    "Accedemos a la tabla Reservacion y a la Autos y creamos su variables"
   ]
  },
  {
   "cell_type": "code",
   "execution_count": 100,
   "metadata": {},
   "outputs": [],
   "source": [
    "VecesQueSeUsoXAuto = {}\n",
    "Reservacion = db[\"Reservacion\"]\n",
    "Autos = db[\"Autos\"]\n",
    "identificadoresVehiculos = []\n",
    "AutosNombre = []\n",
    "Numero = []"
   ]
  },
  {
   "cell_type": "markdown",
   "metadata": {},
   "source": [
    "Seleccionamos todos los autos en reservacion "
   ]
  },
  {
   "cell_type": "code",
   "execution_count": 101,
   "metadata": {},
   "outputs": [],
   "source": [
    "for x in Reservacion.find({}):\n",
    "    identificadoresVehiculos.append((x[\"idVehiculo\"]))"
   ]
  },
  {
   "cell_type": "markdown",
   "metadata": {},
   "source": [
    "Concatenamos con el nombre de los autos"
   ]
  },
  {
   "cell_type": "code",
   "execution_count": 102,
   "metadata": {},
   "outputs": [],
   "source": [
    "dataframeAutos = pd.DataFrame()\n",
    "for x in identificadoresVehiculos:\n",
    "    pipe2 = [{'$match': {'_id': ObjectId(x)}\n",
    "            }]\n",
    "    result = Autos.aggregate(pipe2)\n",
    "    #print(list(result))\n",
    "    dataframeAutos = dataframeAutos.append(list(result), ignore_index=True)"
   ]
  },
  {
   "cell_type": "code",
   "execution_count": 103,
   "metadata": {},
   "outputs": [],
   "source": [
    "nombre_autos = dataframeAutos['Auto']\n",
    "modelo = dataframeAutos['Modelo']"
   ]
  },
  {
   "cell_type": "markdown",
   "metadata": {},
   "source": [
    "- 7.- Segunda Consulta\n",
    "- Número de veces que se rentaron los vehiculos"
   ]
  },
  {
   "cell_type": "code",
   "execution_count": 104,
   "metadata": {},
   "outputs": [],
   "source": [
    "import pymongo\n",
    "import pandas as pd\n",
    "from bson.son import SON\n",
    "df = pd.DataFrame()\n",
    "ListaContadora = []\n",
    "result = \"\"\n",
    "for x in identificadoresVehiculos:\n",
    "    pipe2 = [{'$match': {'idVehiculo': ObjectId(x)}\n",
    "            },\n",
    "    {\"$group\" : {\"_id\":\"$_id\"}\n",
    "    },\n",
    "    {'$count': \"Numero de veces que aparece este auto\"}\n",
    "]\n",
    "    result = Reservacion.aggregate(pipe2)\n",
    "    #pprint(list(result))\n",
    "    df = df.append(list(result), ignore_index=True)"
   ]
  },
  {
   "cell_type": "code",
   "execution_count": 105,
   "metadata": {},
   "outputs": [],
   "source": [
    "#df"
   ]
  },
  {
   "cell_type": "markdown",
   "metadata": {},
   "source": [
    "Contar las veces que se rento"
   ]
  },
  {
   "cell_type": "code",
   "execution_count": 106,
   "metadata": {},
   "outputs": [
    {
     "name": "stdout",
     "output_type": "stream",
     "text": [
      "{'_id': ObjectId('629cd257ddb894567833c357'), 'count': 2}\n",
      "{'_id': ObjectId('629cd257ddb894567833c354'), 'count': 5}\n",
      "{'_id': ObjectId('629cd257ddb894567833c356'), 'count': 1}\n",
      "{'_id': ObjectId('629cd257ddb894567833c355'), 'count': 2}\n",
      "{'_id': ObjectId('629cd257ddb894567833c35c'), 'count': 9}\n",
      "{'_id': ObjectId('629cd257ddb894567833c35a'), 'count': 1}\n",
      "{'_id': ObjectId('629cd257ddb894567833c358'), 'count': 5}\n",
      "{'_id': ObjectId('629cd257ddb894567833c365'), 'count': 5}\n",
      "{'_id': ObjectId('629cd257ddb894567833c361'), 'count': 4}\n",
      "{'_id': ObjectId('629cd257ddb894567833c362'), 'count': 4}\n",
      "{'_id': ObjectId('629cd257ddb894567833c352'), 'count': 5}\n",
      "{'_id': ObjectId('629cd257ddb894567833c353'), 'count': 3}\n",
      "{'_id': ObjectId('629cd257ddb894567833c359'), 'count': 2}\n",
      "{'_id': ObjectId('629cd257ddb894567833c35d'), 'count': 2}\n",
      "{'_id': ObjectId('629cd257ddb894567833c366'), 'count': 4}\n",
      "{'_id': ObjectId('629cd257ddb894567833c35f'), 'count': 4}\n",
      "{'_id': ObjectId('629cd257ddb894567833c364'), 'count': 3}\n",
      "{'_id': ObjectId('629cd257ddb894567833c363'), 'count': 4}\n",
      "{'_id': ObjectId('629cd257ddb894567833c360'), 'count': 1}\n",
      "{'_id': ObjectId('629cd257ddb894567833c35e'), 'count': 4}\n",
      "{'_id': ObjectId('629cd257ddb894567833c367'), 'count': 5}\n",
      "{'_id': ObjectId('629cd257ddb894567833c36b'), 'count': 3}\n",
      "{'_id': ObjectId('629cd257ddb894567833c36c'), 'count': 1}\n",
      "{'_id': ObjectId('629cd257ddb894567833c369'), 'count': 4}\n",
      "{'_id': ObjectId('629cd257ddb894567833c368'), 'count': 5}\n",
      "{'_id': ObjectId('629cd257ddb894567833c36f'), 'count': 5}\n",
      "{'_id': ObjectId('629cd257ddb894567833c36a'), 'count': 2}\n",
      "{'_id': ObjectId('629cd257ddb894567833c36e'), 'count': 4}\n",
      "{'_id': ObjectId('629cd257ddb894567833c36d'), 'count': 1}\n"
     ]
    }
   ],
   "source": [
    "import pymongo\n",
    "import pandas as pd\n",
    "from bson.son import SON\n",
    "dfDos = pd.DataFrame()\n",
    "resultDos = Reservacion.aggregate([\n",
    "    {\n",
    "        '$group': {\n",
    "            '_id': '$idVehiculo', \n",
    "            'count': {\n",
    "                '$sum': 1\n",
    "            }\n",
    "        }\n",
    "    }\n",
    "])\n",
    "#pprint(list(resultDos))\n",
    "for x in (list(resultDos)):\n",
    "    print(x)\n",
    "    dfDos = dfDos.append([x], ignore_index=True)"
   ]
  },
  {
   "cell_type": "markdown",
   "metadata": {},
   "source": [
    "Concatenamos nombre auto y modelo para poderlo graficar"
   ]
  },
  {
   "cell_type": "code",
   "execution_count": 107,
   "metadata": {},
   "outputs": [],
   "source": [
    "dfDos = dfDos.join(nombre_autos)\n",
    "dfDos = dfDos.join(modelo)"
   ]
  },
  {
   "cell_type": "code",
   "execution_count": 108,
   "metadata": {},
   "outputs": [],
   "source": [
    "df = df.join(nombre_autos)\n",
    "df = df.join(modelo)"
   ]
  },
  {
   "cell_type": "code",
   "execution_count": 109,
   "metadata": {},
   "outputs": [],
   "source": [
    "dfDos[\"AB\"] = dfDos[\"Auto\"] + dfDos[\"Modelo\"]"
   ]
  },
  {
   "cell_type": "code",
   "execution_count": 110,
   "metadata": {},
   "outputs": [
    {
     "data": {
      "text/html": [
       "<div>\n",
       "<style scoped>\n",
       "    .dataframe tbody tr th:only-of-type {\n",
       "        vertical-align: middle;\n",
       "    }\n",
       "\n",
       "    .dataframe tbody tr th {\n",
       "        vertical-align: top;\n",
       "    }\n",
       "\n",
       "    .dataframe thead th {\n",
       "        text-align: right;\n",
       "    }\n",
       "</style>\n",
       "<table border=\"1\" class=\"dataframe\">\n",
       "  <thead>\n",
       "    <tr style=\"text-align: right;\">\n",
       "      <th></th>\n",
       "      <th>Numero de veces que aparece este auto</th>\n",
       "      <th>Auto</th>\n",
       "      <th>Modelo</th>\n",
       "      <th>AB</th>\n",
       "    </tr>\n",
       "  </thead>\n",
       "  <tbody>\n",
       "    <tr>\n",
       "      <th>0</th>\n",
       "      <td>9</td>\n",
       "      <td>Ford Fiesta</td>\n",
       "      <td>2012</td>\n",
       "      <td>Ford Fiesta2012</td>\n",
       "    </tr>\n",
       "    <tr>\n",
       "      <th>1</th>\n",
       "      <td>5</td>\n",
       "      <td>Fiat Uno</td>\n",
       "      <td>2019</td>\n",
       "      <td>Fiat Uno 2019</td>\n",
       "    </tr>\n",
       "    <tr>\n",
       "      <th>2</th>\n",
       "      <td>5</td>\n",
       "      <td>Nissan Versa</td>\n",
       "      <td>2017</td>\n",
       "      <td>Nissan Versa 2017</td>\n",
       "    </tr>\n",
       "    <tr>\n",
       "      <th>3</th>\n",
       "      <td>5</td>\n",
       "      <td>Chevrolet Spark</td>\n",
       "      <td>2017</td>\n",
       "      <td>Chevrolet Spark2017</td>\n",
       "    </tr>\n",
       "    <tr>\n",
       "      <th>4</th>\n",
       "      <td>5</td>\n",
       "      <td>Chevrolet Beat</td>\n",
       "      <td>2019</td>\n",
       "      <td>Chevrolet Beat 2019</td>\n",
       "    </tr>\n",
       "    <tr>\n",
       "      <th>...</th>\n",
       "      <td>...</td>\n",
       "      <td>...</td>\n",
       "      <td>...</td>\n",
       "      <td>...</td>\n",
       "    </tr>\n",
       "    <tr>\n",
       "      <th>95</th>\n",
       "      <td>3</td>\n",
       "      <td>Chevrolet Spark</td>\n",
       "      <td>2016</td>\n",
       "      <td>Chevrolet Spark 2016</td>\n",
       "    </tr>\n",
       "    <tr>\n",
       "      <th>96</th>\n",
       "      <td>5</td>\n",
       "      <td>Chevrolet Beat</td>\n",
       "      <td>2019</td>\n",
       "      <td>Chevrolet Beat 2019</td>\n",
       "    </tr>\n",
       "    <tr>\n",
       "      <th>97</th>\n",
       "      <td>4</td>\n",
       "      <td>Volkswagen Vento</td>\n",
       "      <td>2018</td>\n",
       "      <td>Volkswagen Vento 2018</td>\n",
       "    </tr>\n",
       "    <tr>\n",
       "      <th>98</th>\n",
       "      <td>2</td>\n",
       "      <td>Nissan Versa</td>\n",
       "      <td>2018</td>\n",
       "      <td>Nissan Versa 2018</td>\n",
       "    </tr>\n",
       "    <tr>\n",
       "      <th>99</th>\n",
       "      <td>1</td>\n",
       "      <td>Renault Stepway</td>\n",
       "      <td>2018</td>\n",
       "      <td>Renault Stepway 2018</td>\n",
       "    </tr>\n",
       "  </tbody>\n",
       "</table>\n",
       "<p>100 rows × 4 columns</p>\n",
       "</div>"
      ],
      "text/plain": [
       "    Numero de veces que aparece este auto               Auto Modelo  \\\n",
       "0                                       9        Ford Fiesta   2012   \n",
       "1                                       5           Fiat Uno   2019   \n",
       "2                                       5       Nissan Versa   2017   \n",
       "3                                       5    Chevrolet Spark   2017   \n",
       "4                                       5     Chevrolet Beat   2019   \n",
       "..                                    ...                ...    ...   \n",
       "95                                      3    Chevrolet Spark   2016   \n",
       "96                                      5     Chevrolet Beat   2019   \n",
       "97                                      4   Volkswagen Vento   2018   \n",
       "98                                      2       Nissan Versa   2018   \n",
       "99                                      1    Renault Stepway   2018   \n",
       "\n",
       "                        AB  \n",
       "0          Ford Fiesta2012  \n",
       "1            Fiat Uno 2019  \n",
       "2        Nissan Versa 2017  \n",
       "3      Chevrolet Spark2017  \n",
       "4      Chevrolet Beat 2019  \n",
       "..                     ...  \n",
       "95    Chevrolet Spark 2016  \n",
       "96     Chevrolet Beat 2019  \n",
       "97   Volkswagen Vento 2018  \n",
       "98       Nissan Versa 2018  \n",
       "99    Renault Stepway 2018  \n",
       "\n",
       "[100 rows x 4 columns]"
      ]
     },
     "execution_count": 110,
     "metadata": {},
     "output_type": "execute_result"
    }
   ],
   "source": [
    "df[\"AB\"] = df[\"Auto\"] + df[\"Modelo\"]\n",
    "df"
   ]
  },
  {
   "cell_type": "code",
   "execution_count": 111,
   "metadata": {},
   "outputs": [],
   "source": [
    "#import matplotlib.pyplot as plt\n",
    "#plt.rcParams[\"figure.figsize\"] = [20.50, 3.50]\n",
    "#plt.rcParams[\"figure.autolayout\"] = True\n",
    "#df.head(100).plot(x ='AB', y='Numero de veces que aparece este auto', kind = 'bar')\n",
    "#plt.show()"
   ]
  },
  {
   "cell_type": "markdown",
   "metadata": {},
   "source": [
    "Grafica de numero de Rentas"
   ]
  },
  {
   "cell_type": "code",
   "execution_count": 112,
   "metadata": {},
   "outputs": [
    {
     "data": {
      "image/png": "[encoded data removed]",
      "text/plain": [
       "<Figure size 1620x684 with 1 Axes>"
      ]
     },
     "metadata": {
      "needs_background": "light"
     },
     "output_type": "display_data"
    }
   ],
   "source": [
    "import matplotlib.pyplot as plt\n",
    "plt.rcParams[\"figure.figsize\"] = [22.50, 9.50]\n",
    "plt.rcParams[\"figure.autolayout\"] = True\n",
    "dfDos.head(100).plot(x ='AB', y='count', kind = 'bar')\n",
    "plt.title(\"Autos más rentados por periodo , Auto y Modelo\")\n",
    "plt.show()"
   ]
  },
  {
   "cell_type": "code",
   "execution_count": 113,
   "metadata": {},
   "outputs": [],
   "source": [
    "# declarar consultar 10 autos mas rentados\n",
    "#df.sort_values(by=['Numero de veces que aparece este auto'], inplace=True,ascending=False)\n",
    "#df"
   ]
  },
  {
   "cell_type": "markdown",
   "metadata": {},
   "source": [
    "####  8.-Tercera Consulta\n",
    "- Diez Más rentados"
   ]
  },
  {
   "cell_type": "code",
   "execution_count": 114,
   "metadata": {},
   "outputs": [
    {
     "name": "stdout",
     "output_type": "stream",
     "text": [
      "10 Más rentados:\n",
      "                         _id  count               Auto Modelo  \\\n",
      "4   629cd257ddb894567833c35c      9     Chevrolet Beat   2019   \n",
      "10  629cd257ddb894567833c352      5   Volkswagen Vento   2018   \n",
      "24  629cd257ddb894567833c368      5        Ford Fiesta   2012   \n",
      "25  629cd257ddb894567833c36f      5     Chevrolet Aveo   2020   \n",
      "6   629cd257ddb894567833c358      5           Fiat Uno   2019   \n",
      "7   629cd257ddb894567833c365      5        Ford Fiesta   2012   \n",
      "1   629cd257ddb894567833c354      5           Fiat Uno   2019   \n",
      "20  629cd257ddb894567833c367      5   Volkswagen Vento   2018   \n",
      "17  629cd257ddb894567833c363      4    Chevrolet Spark   2018   \n",
      "15  629cd257ddb894567833c35f      4    Chevrolet Spark   2017   \n",
      "\n",
      "                        AB  \n",
      "4      Chevrolet Beat 2019  \n",
      "10   Volkswagen Vento 2018  \n",
      "24         Ford Fiesta2012  \n",
      "25     Chevrolet Aveo 2020  \n",
      "6            Fiat Uno 2019  \n",
      "7          Ford Fiesta2012  \n",
      "1            Fiat Uno 2019  \n",
      "20   Volkswagen Vento 2018  \n",
      "17    Chevrolet Spark 2018  \n",
      "15     Chevrolet Spark2017  \n"
     ]
    }
   ],
   "source": [
    "MasRentados = dfDos.sort_values(by=['count'] , ascending=False).head(10)\n",
    "print(\"10 Más rentados:\")\n",
    "pprint(MasRentados)"
   ]
  },
  {
   "cell_type": "code",
   "execution_count": 115,
   "metadata": {},
   "outputs": [],
   "source": [
    "#plt.rcParams[\"figure.figsize\"] = [10.50, 3.50]\n",
    "#plt.rcParams[\"figure.autolayout\"] = True\n",
    "#ten.plot(x ='AB', y='Numero de veces que aparece este auto', kind = 'bar')\n",
    "#plt.show()"
   ]
  },
  {
   "cell_type": "markdown",
   "metadata": {},
   "source": [
    "Generar Ticket de renta"
   ]
  },
  {
   "cell_type": "code",
   "execution_count": 116,
   "metadata": {},
   "outputs": [],
   "source": [
    "dfTicket = pd.DataFrame()\n",
    "listaTicket = []\n",
    "coleccionTicket = db[\"Reservacion\"]\n",
    "for x in coleccionTicket.find(): \n",
    "    listaTicket.append(x)"
   ]
  },
  {
   "cell_type": "code",
   "execution_count": 117,
   "metadata": {},
   "outputs": [],
   "source": [
    "dataframeTicket = dfTicket.append(listaTicket)"
   ]
  },
  {
   "cell_type": "code",
   "execution_count": 118,
   "metadata": {},
   "outputs": [],
   "source": [
    "#dfTicket[\"Tiempo\"] = dfTicket[\"FechaIngreso\"] - dfTicket[\"FechaSalida\"]\n",
    "#dfTicket = dfTicket.join(modelo)\n",
    "ReservacionDataFrame[['FechaSalida','FechaIngreso']] = ReservacionDataFrame[['FechaSalida','FechaIngreso']].apply(pd.to_datetime) #if conversion required\n",
    "ReservacionDataFrame['Dias'] = (ReservacionDataFrame['FechaIngreso'] - ReservacionDataFrame['FechaSalida']).dt.days"
   ]
  },
  {
   "cell_type": "markdown",
   "metadata": {},
   "source": [
    "Agregamos Autos a la tabla Reservaciones"
   ]
  },
  {
   "cell_type": "code",
   "execution_count": 119,
   "metadata": {},
   "outputs": [],
   "source": [
    "baseUtos = db['Autos']\n",
    "listaAutos =  pd.DataFrame()\n",
    "listaNormalAutos = []\n",
    "for x in ReservacionDataFrame['idVehiculo']:\n",
    "    for y in baseUtos.find({\"_id\":ObjectId(x)}):\n",
    "        listaNormalAutos.append(y)        \n",
    "listaAutos = listaAutos.append(listaNormalAutos)\n",
    "ReservacionDataFrame = ReservacionDataFrame.join(listaAutos[\"Renta\"])\n",
    "ReservacionDataFrame = ReservacionDataFrame.join(listaAutos[\"Auto\"])"
   ]
  },
  {
   "cell_type": "markdown",
   "metadata": {},
   "source": [
    "Agregamos Clientes a la Tabla Reservaciones"
   ]
  },
  {
   "cell_type": "code",
   "execution_count": 120,
   "metadata": {},
   "outputs": [],
   "source": [
    "baseClientes = db['Clientes']\n",
    "listaClientes =  pd.DataFrame()\n",
    "listaNormalClientes = []\n",
    "for x in ReservacionDataFrame['idCliente']:\n",
    "    for y in baseClientes.find({\"_id\":ObjectId(x)}):\n",
    "        listaNormalClientes.append(y)\n",
    "listaClientes = listaClientes.append(listaNormalClientes)\n",
    "listaClientes[\"FullName\"] = listaClientes['Nombre']+ ' ' +listaClientes['Apellido']\n",
    "ReservacionDataFrame = ReservacionDataFrame.join(listaClientes[\"FullName\"])"
   ]
  },
  {
   "cell_type": "markdown",
   "metadata": {},
   "source": [
    "- Cuarta Consulta\n",
    "\n",
    "* Usuarios que más días rentaron Autos "
   ]
  },
  {
   "cell_type": "code",
   "execution_count": 121,
   "metadata": {},
   "outputs": [
    {
     "data": {
      "image/png": "[encoded data removed]",
      "text/plain": [
       "<Figure size 1332x396 with 1 Axes>"
      ]
     },
     "metadata": {
      "needs_background": "light"
     },
     "output_type": "display_data"
    }
   ],
   "source": [
    "plt.rcParams[\"figure.figsize\"] = [18.50, 5.50]\n",
    "plt.rcParams[\"figure.autolayout\"] = True\n",
    "ReservacionDataFrame.plot(x ='FullName', y='Dias', kind = 'bar')\n",
    "plt.title(\"Mayor cantidad de dias  renta por evento por cliente\")\n",
    "plt.show()"
   ]
  },
  {
   "cell_type": "markdown",
   "metadata": {},
   "source": [
    "Organizar Por Fecha de Salida"
   ]
  },
  {
   "cell_type": "code",
   "execution_count": 122,
   "metadata": {},
   "outputs": [
    {
     "data": {
      "text/html": [
       "<div>\n",
       "<style scoped>\n",
       "    .dataframe tbody tr th:only-of-type {\n",
       "        vertical-align: middle;\n",
       "    }\n",
       "\n",
       "    .dataframe tbody tr th {\n",
       "        vertical-align: top;\n",
       "    }\n",
       "\n",
       "    .dataframe thead th {\n",
       "        text-align: right;\n",
       "    }\n",
       "</style>\n",
       "<table border=\"1\" class=\"dataframe\">\n",
       "  <thead>\n",
       "    <tr style=\"text-align: right;\">\n",
       "      <th></th>\n",
       "      <th>idCliente</th>\n",
       "      <th>idEmpleado</th>\n",
       "      <th>idVehiculo</th>\n",
       "      <th>StatusReserva</th>\n",
       "      <th>FechaSalida</th>\n",
       "      <th>FechaIngreso</th>\n",
       "      <th>Dias</th>\n",
       "      <th>Renta</th>\n",
       "      <th>Auto</th>\n",
       "      <th>FullName</th>\n",
       "    </tr>\n",
       "  </thead>\n",
       "  <tbody>\n",
       "    <tr>\n",
       "      <th>1</th>\n",
       "      <td>629cc53dddb894567833c2e7</td>\n",
       "      <td>629cc8a5ddb894567833c343</td>\n",
       "      <td>629cd257ddb894567833c361</td>\n",
       "      <td>0</td>\n",
       "      <td>2019-01-02</td>\n",
       "      <td>2020-03-23</td>\n",
       "      <td>446</td>\n",
       "      <td>878</td>\n",
       "      <td>Chevrolet Beat</td>\n",
       "      <td>Brígida Sastre</td>\n",
       "    </tr>\n",
       "    <tr>\n",
       "      <th>5</th>\n",
       "      <td>629cc53dddb894567833c2ea</td>\n",
       "      <td>629cc8a5ddb894567833c326</td>\n",
       "      <td>629cd257ddb894567833c359</td>\n",
       "      <td>1</td>\n",
       "      <td>2019-01-03</td>\n",
       "      <td>2020-03-20</td>\n",
       "      <td>442</td>\n",
       "      <td>871</td>\n",
       "      <td>Volkswagen Gol</td>\n",
       "      <td>Amado Almazán Vaquero</td>\n",
       "    </tr>\n",
       "    <tr>\n",
       "      <th>19</th>\n",
       "      <td>629cc53dddb894567833c2fd</td>\n",
       "      <td>629cc8a5ddb894567833c341</td>\n",
       "      <td>629cd257ddb894567833c364</td>\n",
       "      <td>0</td>\n",
       "      <td>2019-01-04</td>\n",
       "      <td>2019-11-01</td>\n",
       "      <td>301</td>\n",
       "      <td>852</td>\n",
       "      <td>Chevrolet Sonic</td>\n",
       "      <td>Florentino Pedrosa Rubio</td>\n",
       "    </tr>\n",
       "    <tr>\n",
       "      <th>32</th>\n",
       "      <td>629cc53dddb894567833c2e8</td>\n",
       "      <td>629cc8a5ddb894567833c33a</td>\n",
       "      <td>629cd257ddb894567833c36d</td>\n",
       "      <td>3</td>\n",
       "      <td>2019-01-06</td>\n",
       "      <td>2019-08-23</td>\n",
       "      <td>229</td>\n",
       "      <td>871</td>\n",
       "      <td>Renault Stepway</td>\n",
       "      <td>Celestina Ibarra-Durán</td>\n",
       "    </tr>\n",
       "    <tr>\n",
       "      <th>10</th>\n",
       "      <td>629cc53dddb894567833c313</td>\n",
       "      <td>629cc8a5ddb894567833c338</td>\n",
       "      <td>629cd257ddb894567833c35e</td>\n",
       "      <td>3</td>\n",
       "      <td>2019-01-06</td>\n",
       "      <td>2020-01-25</td>\n",
       "      <td>384</td>\n",
       "      <td>502</td>\n",
       "      <td>Chevrolet Aveo</td>\n",
       "      <td>Gema de Guitart</td>\n",
       "    </tr>\n",
       "    <tr>\n",
       "      <th>20</th>\n",
       "      <td>629cc53dddb894567833c313</td>\n",
       "      <td>629cc8a5ddb894567833c32a</td>\n",
       "      <td>629cd257ddb894567833c366</td>\n",
       "      <td>2</td>\n",
       "      <td>2019-01-06</td>\n",
       "      <td>2019-08-23</td>\n",
       "      <td>229</td>\n",
       "      <td>765</td>\n",
       "      <td>Chevrolet Aveo</td>\n",
       "      <td>Gema de Guitart</td>\n",
       "    </tr>\n",
       "    <tr>\n",
       "      <th>13</th>\n",
       "      <td>629cc53dddb894567833c30e</td>\n",
       "      <td>629cc8a5ddb894567833c338</td>\n",
       "      <td>629cd257ddb894567833c36a</td>\n",
       "      <td>2</td>\n",
       "      <td>2019-01-07</td>\n",
       "      <td>2019-12-23</td>\n",
       "      <td>350</td>\n",
       "      <td>794</td>\n",
       "      <td>Volkswagen Polo</td>\n",
       "      <td>Mayte Español Meléndez</td>\n",
       "    </tr>\n",
       "    <tr>\n",
       "      <th>38</th>\n",
       "      <td>629cc53dddb894567833c302</td>\n",
       "      <td>629cc8a5ddb894567833c331</td>\n",
       "      <td>629cd257ddb894567833c352</td>\n",
       "      <td>3</td>\n",
       "      <td>2019-01-07</td>\n",
       "      <td>2020-02-12</td>\n",
       "      <td>401</td>\n",
       "      <td>288</td>\n",
       "      <td>Chevrolet Spark</td>\n",
       "      <td>Melchor Rolando Sans Donaire</td>\n",
       "    </tr>\n",
       "    <tr>\n",
       "      <th>6</th>\n",
       "      <td>629cc53dddb894567833c2fa</td>\n",
       "      <td>629cc8a5ddb894567833c335</td>\n",
       "      <td>629cd257ddb894567833c369</td>\n",
       "      <td>0</td>\n",
       "      <td>2019-01-12</td>\n",
       "      <td>2020-02-01</td>\n",
       "      <td>385</td>\n",
       "      <td>794</td>\n",
       "      <td>Nissan Versa</td>\n",
       "      <td>Ileana Téllez Vives</td>\n",
       "    </tr>\n",
       "    <tr>\n",
       "      <th>35</th>\n",
       "      <td>629cc53dddb894567833c309</td>\n",
       "      <td>629cc8a5ddb894567833c32c</td>\n",
       "      <td>629cd257ddb894567833c36f</td>\n",
       "      <td>2</td>\n",
       "      <td>2019-01-13</td>\n",
       "      <td>2020-02-23</td>\n",
       "      <td>406</td>\n",
       "      <td>871</td>\n",
       "      <td>Chevrolet Spark</td>\n",
       "      <td>Candelario Rivera Pacheco</td>\n",
       "    </tr>\n",
       "    <tr>\n",
       "      <th>34</th>\n",
       "      <td>629cc53dddb894567833c307</td>\n",
       "      <td>629cc8a5ddb894567833c33d</td>\n",
       "      <td>629cd257ddb894567833c35a</td>\n",
       "      <td>3</td>\n",
       "      <td>2019-01-16</td>\n",
       "      <td>2019-08-31</td>\n",
       "      <td>227</td>\n",
       "      <td>420</td>\n",
       "      <td>Nissan March</td>\n",
       "      <td>Luís Agustí Canales</td>\n",
       "    </tr>\n",
       "    <tr>\n",
       "      <th>25</th>\n",
       "      <td>629cc53dddb894567833c2c7</td>\n",
       "      <td>629cc8a5ddb894567833c31f</td>\n",
       "      <td>629cd257ddb894567833c365</td>\n",
       "      <td>0</td>\n",
       "      <td>2019-01-18</td>\n",
       "      <td>2019-10-27</td>\n",
       "      <td>282</td>\n",
       "      <td>741</td>\n",
       "      <td>Fiat Uno</td>\n",
       "      <td>Brígida Huerta Tomas</td>\n",
       "    </tr>\n",
       "    <tr>\n",
       "      <th>31</th>\n",
       "      <td>629cc53dddb894567833c2e0</td>\n",
       "      <td>629cc8a5ddb894567833c334</td>\n",
       "      <td>629cd257ddb894567833c356</td>\n",
       "      <td>3</td>\n",
       "      <td>2019-01-20</td>\n",
       "      <td>2019-09-07</td>\n",
       "      <td>230</td>\n",
       "      <td>288</td>\n",
       "      <td>Chevrolet Aveo</td>\n",
       "      <td>Emiliana Nebot Cervera</td>\n",
       "    </tr>\n",
       "    <tr>\n",
       "      <th>3</th>\n",
       "      <td>629cc53dddb894567833c2d9</td>\n",
       "      <td>629cc8a5ddb894567833c340</td>\n",
       "      <td>629cd257ddb894567833c359</td>\n",
       "      <td>1</td>\n",
       "      <td>2019-01-23</td>\n",
       "      <td>2019-11-30</td>\n",
       "      <td>311</td>\n",
       "      <td>871</td>\n",
       "      <td>Volkswagen Gol</td>\n",
       "      <td>Rosendo Valenzuela Arévalo</td>\n",
       "    </tr>\n",
       "    <tr>\n",
       "      <th>30</th>\n",
       "      <td>629cc53dddb894567833c2cb</td>\n",
       "      <td>629cc8a5ddb894567833c31f</td>\n",
       "      <td>629cd257ddb894567833c36d</td>\n",
       "      <td>2</td>\n",
       "      <td>2019-01-23</td>\n",
       "      <td>2020-03-22</td>\n",
       "      <td>424</td>\n",
       "      <td>871</td>\n",
       "      <td>Renault Stepway</td>\n",
       "      <td>Íñigo Sotelo Vara</td>\n",
       "    </tr>\n",
       "    <tr>\n",
       "      <th>26</th>\n",
       "      <td>629cc53dddb894567833c2e8</td>\n",
       "      <td>629cc8a5ddb894567833c342</td>\n",
       "      <td>629cd257ddb894567833c35c</td>\n",
       "      <td>2</td>\n",
       "      <td>2019-01-30</td>\n",
       "      <td>2019-08-10</td>\n",
       "      <td>192</td>\n",
       "      <td>463</td>\n",
       "      <td>Ford Fiesta</td>\n",
       "      <td>Celestina Ibarra-Durán</td>\n",
       "    </tr>\n",
       "    <tr>\n",
       "      <th>39</th>\n",
       "      <td>629cc53dddb894567833c306</td>\n",
       "      <td>629cc8a5ddb894567833c342</td>\n",
       "      <td>629cd257ddb894567833c366</td>\n",
       "      <td>1</td>\n",
       "      <td>2019-01-30</td>\n",
       "      <td>2019-09-14</td>\n",
       "      <td>227</td>\n",
       "      <td>765</td>\n",
       "      <td>Chevrolet Aveo</td>\n",
       "      <td>Asdrubal Pulido Blanes</td>\n",
       "    </tr>\n",
       "    <tr>\n",
       "      <th>4</th>\n",
       "      <td>629cc53dddb894567833c313</td>\n",
       "      <td>629cc8a5ddb894567833c33b</td>\n",
       "      <td>629cd257ddb894567833c363</td>\n",
       "      <td>3</td>\n",
       "      <td>2019-02-04</td>\n",
       "      <td>2020-01-16</td>\n",
       "      <td>346</td>\n",
       "      <td>704</td>\n",
       "      <td>Volkswagen Vento</td>\n",
       "      <td>Gema de Guitart</td>\n",
       "    </tr>\n",
       "    <tr>\n",
       "      <th>23</th>\n",
       "      <td>629cc53dddb894567833c2c0</td>\n",
       "      <td>629cc8a5ddb894567833c337</td>\n",
       "      <td>629cd257ddb894567833c36e</td>\n",
       "      <td>1</td>\n",
       "      <td>2019-02-06</td>\n",
       "      <td>2020-03-05</td>\n",
       "      <td>393</td>\n",
       "      <td>871</td>\n",
       "      <td>Ford Fiesta</td>\n",
       "      <td>Ileana Cordero Gelabert</td>\n",
       "    </tr>\n",
       "    <tr>\n",
       "      <th>36</th>\n",
       "      <td>629cc53dddb894567833c2ef</td>\n",
       "      <td>629cc8a5ddb894567833c32d</td>\n",
       "      <td>629cd257ddb894567833c362</td>\n",
       "      <td>2</td>\n",
       "      <td>2019-02-06</td>\n",
       "      <td>2019-07-29</td>\n",
       "      <td>173</td>\n",
       "      <td>677</td>\n",
       "      <td>Volkswagen Vento</td>\n",
       "      <td>Purificación Abril</td>\n",
       "    </tr>\n",
       "    <tr>\n",
       "      <th>21</th>\n",
       "      <td>629cc53dddb894567833c2dc</td>\n",
       "      <td>629cc8a5ddb894567833c324</td>\n",
       "      <td>629cd257ddb894567833c354</td>\n",
       "      <td>3</td>\n",
       "      <td>2019-02-09</td>\n",
       "      <td>2020-04-02</td>\n",
       "      <td>418</td>\n",
       "      <td>520</td>\n",
       "      <td>Chevrolet Aveo</td>\n",
       "      <td>Herminia Sierra-Fonseca</td>\n",
       "    </tr>\n",
       "    <tr>\n",
       "      <th>8</th>\n",
       "      <td>629cc53dddb894567833c2de</td>\n",
       "      <td>629cc8a5ddb894567833c31e</td>\n",
       "      <td>629cd257ddb894567833c36c</td>\n",
       "      <td>2</td>\n",
       "      <td>2019-02-11</td>\n",
       "      <td>2020-03-30</td>\n",
       "      <td>413</td>\n",
       "      <td>871</td>\n",
       "      <td>Nissan Sentra</td>\n",
       "      <td>Gloria Guerrero Arco</td>\n",
       "    </tr>\n",
       "    <tr>\n",
       "      <th>18</th>\n",
       "      <td>629cc53dddb894567833c305</td>\n",
       "      <td>629cc8a5ddb894567833c327</td>\n",
       "      <td>629cd257ddb894567833c368</td>\n",
       "      <td>2</td>\n",
       "      <td>2019-02-14</td>\n",
       "      <td>2020-04-19</td>\n",
       "      <td>430</td>\n",
       "      <td>794</td>\n",
       "      <td>Nissan Versa</td>\n",
       "      <td>Ernesto Coll Coronado</td>\n",
       "    </tr>\n",
       "    <tr>\n",
       "      <th>37</th>\n",
       "      <td>629cc53dddb894567833c2fe</td>\n",
       "      <td>629cc8a5ddb894567833c332</td>\n",
       "      <td>629cd257ddb894567833c352</td>\n",
       "      <td>3</td>\n",
       "      <td>2019-02-15</td>\n",
       "      <td>2020-01-20</td>\n",
       "      <td>339</td>\n",
       "      <td>288</td>\n",
       "      <td>Chevrolet Spark</td>\n",
       "      <td>Luz de Navas</td>\n",
       "    </tr>\n",
       "    <tr>\n",
       "      <th>2</th>\n",
       "      <td>629cc53dddb894567833c305</td>\n",
       "      <td>629cc8a5ddb894567833c31d</td>\n",
       "      <td>629cd257ddb894567833c36f</td>\n",
       "      <td>3</td>\n",
       "      <td>2019-02-16</td>\n",
       "      <td>2019-07-16</td>\n",
       "      <td>150</td>\n",
       "      <td>871</td>\n",
       "      <td>Chevrolet Spark</td>\n",
       "      <td>Ernesto Coll Coronado</td>\n",
       "    </tr>\n",
       "    <tr>\n",
       "      <th>16</th>\n",
       "      <td>629cc53dddb894567833c302</td>\n",
       "      <td>629cc8a5ddb894567833c32b</td>\n",
       "      <td>629cd257ddb894567833c36e</td>\n",
       "      <td>2</td>\n",
       "      <td>2019-02-17</td>\n",
       "      <td>2019-07-23</td>\n",
       "      <td>156</td>\n",
       "      <td>871</td>\n",
       "      <td>Ford Fiesta</td>\n",
       "      <td>Melchor Rolando Sans Donaire</td>\n",
       "    </tr>\n",
       "    <tr>\n",
       "      <th>0</th>\n",
       "      <td>629cc53dddb894567833c2d6</td>\n",
       "      <td>629cc8a5ddb894567833c342</td>\n",
       "      <td>629cd257ddb894567833c363</td>\n",
       "      <td>1</td>\n",
       "      <td>2019-02-21</td>\n",
       "      <td>2020-01-22</td>\n",
       "      <td>335</td>\n",
       "      <td>704</td>\n",
       "      <td>Volkswagen Vento</td>\n",
       "      <td>Angélica Camacho Colom</td>\n",
       "    </tr>\n",
       "    <tr>\n",
       "      <th>15</th>\n",
       "      <td>629cc53dddb894567833c301</td>\n",
       "      <td>629cc8a5ddb894567833c333</td>\n",
       "      <td>629cd257ddb894567833c363</td>\n",
       "      <td>3</td>\n",
       "      <td>2019-02-21</td>\n",
       "      <td>2019-06-06</td>\n",
       "      <td>105</td>\n",
       "      <td>704</td>\n",
       "      <td>Volkswagen Vento</td>\n",
       "      <td>Evangelina Roman Coronado</td>\n",
       "    </tr>\n",
       "    <tr>\n",
       "      <th>14</th>\n",
       "      <td>629cc53dddb894567833c2ed</td>\n",
       "      <td>629cc8a5ddb894567833c33d</td>\n",
       "      <td>629cd257ddb894567833c36c</td>\n",
       "      <td>3</td>\n",
       "      <td>2019-02-24</td>\n",
       "      <td>2019-09-02</td>\n",
       "      <td>190</td>\n",
       "      <td>871</td>\n",
       "      <td>Nissan Sentra</td>\n",
       "      <td>Felisa Quintana Alsina</td>\n",
       "    </tr>\n",
       "    <tr>\n",
       "      <th>29</th>\n",
       "      <td>629cc53dddb894567833c2d1</td>\n",
       "      <td>629cc8a5ddb894567833c337</td>\n",
       "      <td>629cd257ddb894567833c35b</td>\n",
       "      <td>2</td>\n",
       "      <td>2019-02-26</td>\n",
       "      <td>2019-08-22</td>\n",
       "      <td>177</td>\n",
       "      <td>759</td>\n",
       "      <td>Volkswagen Gol</td>\n",
       "      <td>Matías Montenegro-Molins</td>\n",
       "    </tr>\n",
       "    <tr>\n",
       "      <th>28</th>\n",
       "      <td>629cc53dddb894567833c2b8</td>\n",
       "      <td>629cc8a5ddb894567833c321</td>\n",
       "      <td>629cd257ddb894567833c355</td>\n",
       "      <td>0</td>\n",
       "      <td>2019-03-01</td>\n",
       "      <td>2019-05-17</td>\n",
       "      <td>77</td>\n",
       "      <td>286</td>\n",
       "      <td>Ford Figo</td>\n",
       "      <td>Valentín Lillo Amo</td>\n",
       "    </tr>\n",
       "    <tr>\n",
       "      <th>24</th>\n",
       "      <td>629cc53dddb894567833c2ba</td>\n",
       "      <td>629cc8a5ddb894567833c32f</td>\n",
       "      <td>629cd257ddb894567833c35f</td>\n",
       "      <td>3</td>\n",
       "      <td>2019-03-10</td>\n",
       "      <td>2020-01-22</td>\n",
       "      <td>318</td>\n",
       "      <td>638</td>\n",
       "      <td>Renault Kwid</td>\n",
       "      <td>Emigdio Rogelio Cuenca Roca</td>\n",
       "    </tr>\n",
       "    <tr>\n",
       "      <th>33</th>\n",
       "      <td>629cc53dddb894567833c30a</td>\n",
       "      <td>629cc8a5ddb894567833c343</td>\n",
       "      <td>629cd257ddb894567833c367</td>\n",
       "      <td>0</td>\n",
       "      <td>2019-03-12</td>\n",
       "      <td>2020-04-11</td>\n",
       "      <td>396</td>\n",
       "      <td>871</td>\n",
       "      <td>Chevrolet Aveo</td>\n",
       "      <td>Alfonso de Rosales</td>\n",
       "    </tr>\n",
       "    <tr>\n",
       "      <th>11</th>\n",
       "      <td>629cc53dddb894567833c2c9</td>\n",
       "      <td>629cc8a5ddb894567833c334</td>\n",
       "      <td>629cd257ddb894567833c355</td>\n",
       "      <td>0</td>\n",
       "      <td>2019-03-12</td>\n",
       "      <td>2019-04-08</td>\n",
       "      <td>27</td>\n",
       "      <td>286</td>\n",
       "      <td>Ford Figo</td>\n",
       "      <td>Valero Vélez</td>\n",
       "    </tr>\n",
       "    <tr>\n",
       "      <th>27</th>\n",
       "      <td>629cc53dddb894567833c2f8</td>\n",
       "      <td>629cc8a5ddb894567833c32c</td>\n",
       "      <td>629cd257ddb894567833c353</td>\n",
       "      <td>2</td>\n",
       "      <td>2019-03-13</td>\n",
       "      <td>2019-05-26</td>\n",
       "      <td>74</td>\n",
       "      <td>918</td>\n",
       "      <td>Chevrolet Spark</td>\n",
       "      <td>Yéssica Mascaró Angulo</td>\n",
       "    </tr>\n",
       "    <tr>\n",
       "      <th>12</th>\n",
       "      <td>629cc53dddb894567833c2c9</td>\n",
       "      <td>629cc8a5ddb894567833c33c</td>\n",
       "      <td>629cd257ddb894567833c358</td>\n",
       "      <td>2</td>\n",
       "      <td>2019-03-14</td>\n",
       "      <td>2020-01-31</td>\n",
       "      <td>323</td>\n",
       "      <td>368</td>\n",
       "      <td>Chevrolet Beat</td>\n",
       "      <td>Valero Vélez</td>\n",
       "    </tr>\n",
       "    <tr>\n",
       "      <th>7</th>\n",
       "      <td>629cc53dddb894567833c30d</td>\n",
       "      <td>629cc8a5ddb894567833c321</td>\n",
       "      <td>629cd257ddb894567833c357</td>\n",
       "      <td>0</td>\n",
       "      <td>2019-03-15</td>\n",
       "      <td>2020-03-27</td>\n",
       "      <td>378</td>\n",
       "      <td>331</td>\n",
       "      <td>Dodge Attitude</td>\n",
       "      <td>Eusebio del Blázquez</td>\n",
       "    </tr>\n",
       "    <tr>\n",
       "      <th>22</th>\n",
       "      <td>629cc53dddb894567833c309</td>\n",
       "      <td>629cc8a5ddb894567833c33b</td>\n",
       "      <td>629cd257ddb894567833c354</td>\n",
       "      <td>2</td>\n",
       "      <td>2019-03-15</td>\n",
       "      <td>2020-02-15</td>\n",
       "      <td>337</td>\n",
       "      <td>520</td>\n",
       "      <td>Chevrolet Aveo</td>\n",
       "      <td>Candelario Rivera Pacheco</td>\n",
       "    </tr>\n",
       "    <tr>\n",
       "      <th>9</th>\n",
       "      <td>629cc53dddb894567833c2f4</td>\n",
       "      <td>629cc8a5ddb894567833c343</td>\n",
       "      <td>629cd257ddb894567833c369</td>\n",
       "      <td>3</td>\n",
       "      <td>2019-03-15</td>\n",
       "      <td>2020-04-06</td>\n",
       "      <td>388</td>\n",
       "      <td>794</td>\n",
       "      <td>Nissan Versa</td>\n",
       "      <td>Severiano Serra Querol</td>\n",
       "    </tr>\n",
       "    <tr>\n",
       "      <th>17</th>\n",
       "      <td>629cc53dddb894567833c30f</td>\n",
       "      <td>629cc8a5ddb894567833c31e</td>\n",
       "      <td>629cd257ddb894567833c36d</td>\n",
       "      <td>2</td>\n",
       "      <td>2019-03-16</td>\n",
       "      <td>2019-12-12</td>\n",
       "      <td>271</td>\n",
       "      <td>871</td>\n",
       "      <td>Renault Stepway</td>\n",
       "      <td>Melisa Pla-Terrón</td>\n",
       "    </tr>\n",
       "  </tbody>\n",
       "</table>\n",
       "</div>"
      ],
      "text/plain": [
       "                   idCliente                idEmpleado  \\\n",
       "1   629cc53dddb894567833c2e7  629cc8a5ddb894567833c343   \n",
       "5   629cc53dddb894567833c2ea  629cc8a5ddb894567833c326   \n",
       "19  629cc53dddb894567833c2fd  629cc8a5ddb894567833c341   \n",
       "32  629cc53dddb894567833c2e8  629cc8a5ddb894567833c33a   \n",
       "10  629cc53dddb894567833c313  629cc8a5ddb894567833c338   \n",
       "20  629cc53dddb894567833c313  629cc8a5ddb894567833c32a   \n",
       "13  629cc53dddb894567833c30e  629cc8a5ddb894567833c338   \n",
       "38  629cc53dddb894567833c302  629cc8a5ddb894567833c331   \n",
       "6   629cc53dddb894567833c2fa  629cc8a5ddb894567833c335   \n",
       "35  629cc53dddb894567833c309  629cc8a5ddb894567833c32c   \n",
       "34  629cc53dddb894567833c307  629cc8a5ddb894567833c33d   \n",
       "25  629cc53dddb894567833c2c7  629cc8a5ddb894567833c31f   \n",
       "31  629cc53dddb894567833c2e0  629cc8a5ddb894567833c334   \n",
       "3   629cc53dddb894567833c2d9  629cc8a5ddb894567833c340   \n",
       "30  629cc53dddb894567833c2cb  629cc8a5ddb894567833c31f   \n",
       "26  629cc53dddb894567833c2e8  629cc8a5ddb894567833c342   \n",
       "39  629cc53dddb894567833c306  629cc8a5ddb894567833c342   \n",
       "4   629cc53dddb894567833c313  629cc8a5ddb894567833c33b   \n",
       "23  629cc53dddb894567833c2c0  629cc8a5ddb894567833c337   \n",
       "36  629cc53dddb894567833c2ef  629cc8a5ddb894567833c32d   \n",
       "21  629cc53dddb894567833c2dc  629cc8a5ddb894567833c324   \n",
       "8   629cc53dddb894567833c2de  629cc8a5ddb894567833c31e   \n",
       "18  629cc53dddb894567833c305  629cc8a5ddb894567833c327   \n",
       "37  629cc53dddb894567833c2fe  629cc8a5ddb894567833c332   \n",
       "2   629cc53dddb894567833c305  629cc8a5ddb894567833c31d   \n",
       "16  629cc53dddb894567833c302  629cc8a5ddb894567833c32b   \n",
       "0   629cc53dddb894567833c2d6  629cc8a5ddb894567833c342   \n",
       "15  629cc53dddb894567833c301  629cc8a5ddb894567833c333   \n",
       "14  629cc53dddb894567833c2ed  629cc8a5ddb894567833c33d   \n",
       "29  629cc53dddb894567833c2d1  629cc8a5ddb894567833c337   \n",
       "28  629cc53dddb894567833c2b8  629cc8a5ddb894567833c321   \n",
       "24  629cc53dddb894567833c2ba  629cc8a5ddb894567833c32f   \n",
       "33  629cc53dddb894567833c30a  629cc8a5ddb894567833c343   \n",
       "11  629cc53dddb894567833c2c9  629cc8a5ddb894567833c334   \n",
       "27  629cc53dddb894567833c2f8  629cc8a5ddb894567833c32c   \n",
       "12  629cc53dddb894567833c2c9  629cc8a5ddb894567833c33c   \n",
       "7   629cc53dddb894567833c30d  629cc8a5ddb894567833c321   \n",
       "22  629cc53dddb894567833c309  629cc8a5ddb894567833c33b   \n",
       "9   629cc53dddb894567833c2f4  629cc8a5ddb894567833c343   \n",
       "17  629cc53dddb894567833c30f  629cc8a5ddb894567833c31e   \n",
       "\n",
       "                  idVehiculo  StatusReserva FechaSalida FechaIngreso  Dias  \\\n",
       "1   629cd257ddb894567833c361              0  2019-01-02   2020-03-23   446   \n",
       "5   629cd257ddb894567833c359              1  2019-01-03   2020-03-20   442   \n",
       "19  629cd257ddb894567833c364              0  2019-01-04   2019-11-01   301   \n",
       "32  629cd257ddb894567833c36d              3  2019-01-06   2019-08-23   229   \n",
       "10  629cd257ddb894567833c35e              3  2019-01-06   2020-01-25   384   \n",
       "20  629cd257ddb894567833c366              2  2019-01-06   2019-08-23   229   \n",
       "13  629cd257ddb894567833c36a              2  2019-01-07   2019-12-23   350   \n",
       "38  629cd257ddb894567833c352              3  2019-01-07   2020-02-12   401   \n",
       "6   629cd257ddb894567833c369              0  2019-01-12   2020-02-01   385   \n",
       "35  629cd257ddb894567833c36f              2  2019-01-13   2020-02-23   406   \n",
       "34  629cd257ddb894567833c35a              3  2019-01-16   2019-08-31   227   \n",
       "25  629cd257ddb894567833c365              0  2019-01-18   2019-10-27   282   \n",
       "31  629cd257ddb894567833c356              3  2019-01-20   2019-09-07   230   \n",
       "3   629cd257ddb894567833c359              1  2019-01-23   2019-11-30   311   \n",
       "30  629cd257ddb894567833c36d              2  2019-01-23   2020-03-22   424   \n",
       "26  629cd257ddb894567833c35c              2  2019-01-30   2019-08-10   192   \n",
       "39  629cd257ddb894567833c366              1  2019-01-30   2019-09-14   227   \n",
       "4   629cd257ddb894567833c363              3  2019-02-04   2020-01-16   346   \n",
       "23  629cd257ddb894567833c36e              1  2019-02-06   2020-03-05   393   \n",
       "36  629cd257ddb894567833c362              2  2019-02-06   2019-07-29   173   \n",
       "21  629cd257ddb894567833c354              3  2019-02-09   2020-04-02   418   \n",
       "8   629cd257ddb894567833c36c              2  2019-02-11   2020-03-30   413   \n",
       "18  629cd257ddb894567833c368              2  2019-02-14   2020-04-19   430   \n",
       "37  629cd257ddb894567833c352              3  2019-02-15   2020-01-20   339   \n",
       "2   629cd257ddb894567833c36f              3  2019-02-16   2019-07-16   150   \n",
       "16  629cd257ddb894567833c36e              2  2019-02-17   2019-07-23   156   \n",
       "0   629cd257ddb894567833c363              1  2019-02-21   2020-01-22   335   \n",
       "15  629cd257ddb894567833c363              3  2019-02-21   2019-06-06   105   \n",
       "14  629cd257ddb894567833c36c              3  2019-02-24   2019-09-02   190   \n",
       "29  629cd257ddb894567833c35b              2  2019-02-26   2019-08-22   177   \n",
       "28  629cd257ddb894567833c355              0  2019-03-01   2019-05-17    77   \n",
       "24  629cd257ddb894567833c35f              3  2019-03-10   2020-01-22   318   \n",
       "33  629cd257ddb894567833c367              0  2019-03-12   2020-04-11   396   \n",
       "11  629cd257ddb894567833c355              0  2019-03-12   2019-04-08    27   \n",
       "27  629cd257ddb894567833c353              2  2019-03-13   2019-05-26    74   \n",
       "12  629cd257ddb894567833c358              2  2019-03-14   2020-01-31   323   \n",
       "7   629cd257ddb894567833c357              0  2019-03-15   2020-03-27   378   \n",
       "22  629cd257ddb894567833c354              2  2019-03-15   2020-02-15   337   \n",
       "9   629cd257ddb894567833c369              3  2019-03-15   2020-04-06   388   \n",
       "17  629cd257ddb894567833c36d              2  2019-03-16   2019-12-12   271   \n",
       "\n",
       "    Renta               Auto                      FullName  \n",
       "1     878     Chevrolet Beat                Brígida Sastre  \n",
       "5     871     Volkswagen Gol         Amado Almazán Vaquero  \n",
       "19    852    Chevrolet Sonic      Florentino Pedrosa Rubio  \n",
       "32    871    Renault Stepway        Celestina Ibarra-Durán  \n",
       "10    502     Chevrolet Aveo               Gema de Guitart  \n",
       "20    765     Chevrolet Aveo               Gema de Guitart  \n",
       "13    794    Volkswagen Polo        Mayte Español Meléndez  \n",
       "38    288    Chevrolet Spark  Melchor Rolando Sans Donaire  \n",
       "6     794       Nissan Versa           Ileana Téllez Vives  \n",
       "35    871    Chevrolet Spark     Candelario Rivera Pacheco  \n",
       "34    420       Nissan March           Luís Agustí Canales  \n",
       "25    741           Fiat Uno          Brígida Huerta Tomas  \n",
       "31    288     Chevrolet Aveo        Emiliana Nebot Cervera  \n",
       "3     871     Volkswagen Gol    Rosendo Valenzuela Arévalo  \n",
       "30    871    Renault Stepway             Íñigo Sotelo Vara  \n",
       "26    463        Ford Fiesta        Celestina Ibarra-Durán  \n",
       "39    765     Chevrolet Aveo        Asdrubal Pulido Blanes  \n",
       "4     704   Volkswagen Vento               Gema de Guitart  \n",
       "23    871        Ford Fiesta       Ileana Cordero Gelabert  \n",
       "36    677   Volkswagen Vento            Purificación Abril  \n",
       "21    520     Chevrolet Aveo       Herminia Sierra-Fonseca  \n",
       "8     871      Nissan Sentra          Gloria Guerrero Arco  \n",
       "18    794       Nissan Versa         Ernesto Coll Coronado  \n",
       "37    288    Chevrolet Spark                  Luz de Navas  \n",
       "2     871    Chevrolet Spark         Ernesto Coll Coronado  \n",
       "16    871        Ford Fiesta  Melchor Rolando Sans Donaire  \n",
       "0     704   Volkswagen Vento        Angélica Camacho Colom  \n",
       "15    704   Volkswagen Vento     Evangelina Roman Coronado  \n",
       "14    871      Nissan Sentra        Felisa Quintana Alsina  \n",
       "29    759     Volkswagen Gol      Matías Montenegro-Molins  \n",
       "28    286          Ford Figo            Valentín Lillo Amo  \n",
       "24    638       Renault Kwid   Emigdio Rogelio Cuenca Roca  \n",
       "33    871     Chevrolet Aveo            Alfonso de Rosales  \n",
       "11    286          Ford Figo                  Valero Vélez  \n",
       "27    918    Chevrolet Spark        Yéssica Mascaró Angulo  \n",
       "12    368     Chevrolet Beat                  Valero Vélez  \n",
       "7     331     Dodge Attitude          Eusebio del Blázquez  \n",
       "22    520     Chevrolet Aveo     Candelario Rivera Pacheco  \n",
       "9     794       Nissan Versa        Severiano Serra Querol  \n",
       "17    871    Renault Stepway             Melisa Pla-Terrón  "
      ]
     },
     "execution_count": 122,
     "metadata": {},
     "output_type": "execute_result"
    }
   ],
   "source": [
    "ReservacionDataFrame[\"FechaSalida\"] = pd.to_datetime(ReservacionDataFrame[\"FechaSalida\"])\n",
    "ReservacionDataFrame.sort_values(by=\"FechaSalida\")"
   ]
  },
  {
   "cell_type": "markdown",
   "metadata": {},
   "source": [
    "- Quinta consulta\n",
    "-    Consultamos la duracion de la renta"
   ]
  },
  {
   "cell_type": "code",
   "execution_count": 123,
   "metadata": {},
   "outputs": [],
   "source": [
    "dfSalida = pd.DataFrame()\n",
    "coleccionReservacion = db[\"Reservacion\"]\n",
    "pipeFechaSalida = [\n",
    "    {\n",
    "        '$group': {\n",
    "            '_id': '$FechaSalida', \n",
    "            'count': {\n",
    "                '$sum': 1\n",
    "            }\n",
    "        }\n",
    "    }\n",
    "]\n",
    "resultadoSalida = coleccionReservacion.aggregate(pipeFechaSalida)\n",
    "    #pprint(list(resultadoSalida))\n",
    "dfSalida = dfSalida.append(list(resultadoSalida), ignore_index=True)"
   ]
  },
  {
   "cell_type": "code",
   "execution_count": 124,
   "metadata": {},
   "outputs": [
    {
     "data": {
      "text/html": [
       "<div>\n",
       "<style scoped>\n",
       "    .dataframe tbody tr th:only-of-type {\n",
       "        vertical-align: middle;\n",
       "    }\n",
       "\n",
       "    .dataframe tbody tr th {\n",
       "        vertical-align: top;\n",
       "    }\n",
       "\n",
       "    .dataframe thead th {\n",
       "        text-align: right;\n",
       "    }\n",
       "</style>\n",
       "<table border=\"1\" class=\"dataframe\">\n",
       "  <thead>\n",
       "    <tr style=\"text-align: right;\">\n",
       "      <th></th>\n",
       "      <th>_id</th>\n",
       "      <th>count</th>\n",
       "    </tr>\n",
       "  </thead>\n",
       "  <tbody>\n",
       "    <tr>\n",
       "      <th>0</th>\n",
       "      <td>2020-03-27</td>\n",
       "      <td>1</td>\n",
       "    </tr>\n",
       "    <tr>\n",
       "      <th>64</th>\n",
       "      <td>2022-02-21</td>\n",
       "      <td>1</td>\n",
       "    </tr>\n",
       "    <tr>\n",
       "      <th>63</th>\n",
       "      <td>2022-03-01</td>\n",
       "      <td>1</td>\n",
       "    </tr>\n",
       "    <tr>\n",
       "      <th>62</th>\n",
       "      <td>2019-02-22</td>\n",
       "      <td>1</td>\n",
       "    </tr>\n",
       "    <tr>\n",
       "      <th>60</th>\n",
       "      <td>2021-01-01</td>\n",
       "      <td>1</td>\n",
       "    </tr>\n",
       "    <tr>\n",
       "      <th>...</th>\n",
       "      <td>...</td>\n",
       "      <td>...</td>\n",
       "    </tr>\n",
       "    <tr>\n",
       "      <th>61</th>\n",
       "      <td>2020-02-18</td>\n",
       "      <td>2</td>\n",
       "    </tr>\n",
       "    <tr>\n",
       "      <th>3</th>\n",
       "      <td>2020-01-28</td>\n",
       "      <td>2</td>\n",
       "    </tr>\n",
       "    <tr>\n",
       "      <th>1</th>\n",
       "      <td>2020-01-12</td>\n",
       "      <td>2</td>\n",
       "    </tr>\n",
       "    <tr>\n",
       "      <th>42</th>\n",
       "      <td>2019-01-13</td>\n",
       "      <td>2</td>\n",
       "    </tr>\n",
       "    <tr>\n",
       "      <th>77</th>\n",
       "      <td>2020-02-04</td>\n",
       "      <td>3</td>\n",
       "    </tr>\n",
       "  </tbody>\n",
       "</table>\n",
       "<p>91 rows × 2 columns</p>\n",
       "</div>"
      ],
      "text/plain": [
       "          _id  count\n",
       "0  2020-03-27      1\n",
       "64 2022-02-21      1\n",
       "63 2022-03-01      1\n",
       "62 2019-02-22      1\n",
       "60 2021-01-01      1\n",
       "..        ...    ...\n",
       "61 2020-02-18      2\n",
       "3  2020-01-28      2\n",
       "1  2020-01-12      2\n",
       "42 2019-01-13      2\n",
       "77 2020-02-04      3\n",
       "\n",
       "[91 rows x 2 columns]"
      ]
     },
     "execution_count": 124,
     "metadata": {},
     "output_type": "execute_result"
    }
   ],
   "source": [
    "dfSalida.sort_values(by=\"count\")"
   ]
  },
  {
   "cell_type": "markdown",
   "metadata": {},
   "source": [
    "En esta grafica se aprecia cuales han sido los dias que ha generado más rentas totales"
   ]
  },
  {
   "cell_type": "code",
   "execution_count": 125,
   "metadata": {},
   "outputs": [
    {
     "data": {
      "image/png": "[encoded data removed]",
      "text/plain": [
       "<Figure size 612x324 with 1 Axes>"
      ]
     },
     "metadata": {
      "needs_background": "light"
     },
     "output_type": "display_data"
    }
   ],
   "source": [
    "plt.rcParams[\"figure.figsize\"] = [8.50, 4.50]\n",
    "plt.rcParams[\"figure.autolayout\"] = True\n",
    "dfSalida.plot(x ='_id', y='count', kind = 'line')\n",
    "plt.title(\"Fechas con mayor número de rentas\")\n",
    "plt.show()"
   ]
  },
  {
   "cell_type": "markdown",
   "metadata": {},
   "source": [
    "Realizamos multilpicacion de dias por precio de renta"
   ]
  },
  {
   "cell_type": "code",
   "execution_count": 126,
   "metadata": {},
   "outputs": [],
   "source": [
    "ReservacionDataFrame[\"CostoTotal\"] = ReservacionDataFrame['Dias']*ReservacionDataFrame['Renta']"
   ]
  },
  {
   "cell_type": "markdown",
   "metadata": {},
   "source": [
    "Agregamos Columna e imprimimos el cliente que ha gastado más dinero en renta individual de automovil"
   ]
  },
  {
   "cell_type": "code",
   "execution_count": 127,
   "metadata": {},
   "outputs": [
    {
     "data": {
      "image/png": "[encoded data removed]",
      "text/plain": [
       "<Figure size 2196x756 with 1 Axes>"
      ]
     },
     "metadata": {
      "needs_background": "light"
     },
     "output_type": "display_data"
    }
   ],
   "source": [
    "plt.rcParams[\"figure.figsize\"] = [30.50, 10.50]\n",
    "plt.rcParams[\"figure.autolayout\"] = True\n",
    "ReservacionDataFrame.plot(x ='FullName', y='CostoTotal', kind = 'bar')\n",
    "plt.title(\"Clientes con las cuentas cobradas más grandes\")\n",
    "plt.show()"
   ]
  },
  {
   "cell_type": "markdown",
   "metadata": {},
   "source": [
    "Sexta Consulta: Mejores Vendedores por numero de venta "
   ]
  },
  {
   "cell_type": "code",
   "execution_count": 128,
   "metadata": {},
   "outputs": [],
   "source": [
    "ReservacionxEmpleado = db[\"Reservacion\"]\n",
    "EmpleadoxReservacion = db[\"Empleados\"]\n",
    "#table temporal\n",
    "ReservacionListaEmpleado = []\n",
    "ReservacionListaReservacion = []\n",
    "#Busqueda de Reservacion\n",
    "BusquedaEmpleadoReservacion = EmpleadoxReservacion.find()\n",
    "for x in BusquedaEmpleadoReservacion:\n",
    "    ReservacionListaReservacion.append(x)\n",
    "ReservacionEmpleadoDF =  pd.DataFrame()\n",
    "ReservacionReservacionDF = pd.DataFrame()\n",
    "for y in ReservacionListaReservacion:\n",
    "    ReservacionEmpleadoDF =  ReservacionEmpleadoDF.append(y, ignore_index=True)   "
   ]
  },
  {
   "cell_type": "code",
   "execution_count": 129,
   "metadata": {},
   "outputs": [
    {
     "name": "stdout",
     "output_type": "stream",
     "text": [
      "{'_id': ObjectId('629cc8a5ddb894567833c33d'), 'count': 1}\n",
      "{'_id': ObjectId('629cc8a5ddb894567833c341'), 'count': 3}\n",
      "{'_id': ObjectId('629cc8a5ddb894567833c340'), 'count': 2}\n",
      "{'_id': ObjectId('629cc8a5ddb894567833c33c'), 'count': 3}\n",
      "{'_id': ObjectId('629cc8a5ddb894567833c33e'), 'count': 2}\n",
      "{'_id': ObjectId('629cc8a5ddb894567833c33f'), 'count': 1}\n",
      "{'_id': ObjectId('629cc8a5ddb894567833c343'), 'count': 1}\n",
      "{'_id': ObjectId('629cc8a5ddb894567833c322'), 'count': 2}\n",
      "{'_id': ObjectId('629cc8a5ddb894567833c32a'), 'count': 5}\n",
      "{'_id': ObjectId('629cc8a5ddb894567833c32b'), 'count': 3}\n",
      "{'_id': ObjectId('629cc8a5ddb894567833c321'), 'count': 5}\n",
      "{'_id': ObjectId('629cc8a5ddb894567833c31e'), 'count': 2}\n",
      "{'_id': ObjectId('629cc8a5ddb894567833c332'), 'count': 1}\n",
      "{'_id': ObjectId('629cc8a5ddb894567833c31f'), 'count': 1}\n",
      "{'_id': ObjectId('629cc8a5ddb894567833c323'), 'count': 2}\n",
      "{'_id': ObjectId('629cc8a5ddb894567833c334'), 'count': 4}\n",
      "{'_id': ObjectId('629cc8a5ddb894567833c32d'), 'count': 2}\n",
      "{'_id': ObjectId('629cc8a5ddb894567833c320'), 'count': 4}\n",
      "{'_id': ObjectId('629cc8a5ddb894567833c338'), 'count': 5}\n",
      "{'_id': ObjectId('629cc8a5ddb894567833c328'), 'count': 2}\n",
      "{'_id': ObjectId('629cc8a5ddb894567833c33b'), 'count': 1}\n",
      "{'_id': ObjectId('629cc8a5ddb894567833c335'), 'count': 6}\n",
      "{'_id': ObjectId('629cc8a5ddb894567833c331'), 'count': 3}\n",
      "{'_id': ObjectId('629cc8a5ddb894567833c32f'), 'count': 4}\n",
      "{'_id': ObjectId('629cc8a5ddb894567833c32e'), 'count': 3}\n",
      "{'_id': ObjectId('629cc8a5ddb894567833c336'), 'count': 3}\n",
      "{'_id': ObjectId('629cc8a5ddb894567833c32c'), 'count': 3}\n",
      "{'_id': ObjectId('629cc8a5ddb894567833c33a'), 'count': 6}\n",
      "{'_id': ObjectId('629cc8a5ddb894567833c326'), 'count': 1}\n",
      "{'_id': ObjectId('629cc8a5ddb894567833c339'), 'count': 4}\n",
      "{'_id': ObjectId('629cc8a5ddb894567833c324'), 'count': 1}\n",
      "{'_id': ObjectId('629cc8a5ddb894567833c329'), 'count': 3}\n",
      "{'_id': ObjectId('629cc8a5ddb894567833c337'), 'count': 2}\n",
      "{'_id': ObjectId('629cc8a5ddb894567833c330'), 'count': 1}\n",
      "{'_id': ObjectId('629cc8a5ddb894567833c333'), 'count': 4}\n",
      "{'_id': ObjectId('629cc8a5ddb894567833c327'), 'count': 2}\n",
      "{'_id': ObjectId('629cc8a5ddb894567833c325'), 'count': 1}\n",
      "{'_id': ObjectId('629cc8a5ddb894567833c31d'), 'count': 1}\n"
     ]
    }
   ],
   "source": [
    "dfTres = pd.DataFrame()\n",
    "resultTres = Reservacion.aggregate([\n",
    "    {\n",
    "        '$group': {\n",
    "            '_id': '$idEmpleado', \n",
    "            'count': {\n",
    "                '$sum': 1\n",
    "            }\n",
    "        }\n",
    "    }\n",
    "])\n",
    "#pprint(list(resultDos))\n",
    "for x in (list(resultTres)):\n",
    "    print(x)\n",
    "    dfTres = dfTres.append([x], ignore_index=True)"
   ]
  },
  {
   "cell_type": "code",
   "execution_count": 130,
   "metadata": {},
   "outputs": [
    {
     "data": {
      "text/plain": [
       "0     MALR17031977706\n",
       "1     AALE19081997375\n",
       "2     SBIP01071984458\n",
       "3     GBAR08091974169\n",
       "4     ACAV05031991396\n",
       "5     BNUE12061972933\n",
       "6     MBAB05011998903\n",
       "7     SCOT13091981102\n",
       "8     EFOA26051975358\n",
       "9     IARG04101985503\n",
       "10    SPIE27071997271\n",
       "11    DCAV25031974810\n",
       "12    BSAE28071994218\n",
       "13    JLUL10101984412\n",
       "14    MDIS18081992341\n",
       "15    CFAI23111980420\n",
       "16    OTEX20091989366\n",
       "17    IMEO06111983745\n",
       "18    MVIN09111990306\n",
       "19    MVID20101976921\n",
       "20    SREF19111980298\n",
       "21    DGOÇ18071981251\n",
       "22    ADAM07021992380\n",
       "23    MCOT02041983366\n",
       "24    LAZV25031989946\n",
       "25    DSIV15021977250\n",
       "26    IFRI04011980334\n",
       "27    AVIN11111989432\n",
       "28    LDAM07051975565\n",
       "29    GDAP21121988323\n",
       "30    RPEE15101994129\n",
       "31    JVIS15111972772\n",
       "32    ASIV08061978908\n",
       "33    LSOZ01071985517\n",
       "34    EPEE04021982739\n",
       "35    ECAV17061995333\n",
       "36    PNOU24091971641\n",
       "37    LLIA02051994526\n",
       "38    ALAS23061983685\n",
       "39    HCAD02101979677\n",
       "Name: RFC, dtype: object"
      ]
     },
     "execution_count": 130,
     "metadata": {},
     "output_type": "execute_result"
    }
   ],
   "source": [
    "rfc = ReservacionEmpleadoDF['RFC']\n",
    "rfc"
   ]
  },
  {
   "cell_type": "code",
   "execution_count": 131,
   "metadata": {},
   "outputs": [],
   "source": [
    "dfTres = dfTres.join(rfc)"
   ]
  },
  {
   "cell_type": "code",
   "execution_count": 132,
   "metadata": {},
   "outputs": [
    {
     "data": {
      "image/png": "[encoded data removed]",
      "text/plain": [
       "<Figure size 1980x756 with 1 Axes>"
      ]
     },
     "metadata": {
      "needs_background": "light"
     },
     "output_type": "display_data"
    }
   ],
   "source": [
    "plt.rcParams[\"figure.figsize\"] = [27.50, 10.50]\n",
    "plt.rcParams[\"figure.autolayout\"] = True\n",
    "dfTres.plot(x ='RFC', y='count', kind = 'bar')\n",
    "plt.title(\"RFC de las Rentas que concretan  los Empleados\")\n",
    "plt.show()"
   ]
  },
  {
   "cell_type": "code",
   "execution_count": 133,
   "metadata": {},
   "outputs": [],
   "source": [
    "#PROMEDIO TICKEY\n",
    "#TIEMPO PROMEDIO DE RENTA\n",
    "#TICKET , CREAMOS UN TOTAL , USUARIO, VENDEDOR , SUCURSAL DE SALIDA Y EL AUTO Y KILOMETRAJE"
   ]
  },
  {
   "cell_type": "code",
   "execution_count": 134,
   "metadata": {},
   "outputs": [],
   "source": [
    "TiempoPromedioRenta = ReservacionDataFrame[\"Dias\"].mean()"
   ]
  },
  {
   "cell_type": "code",
   "execution_count": 135,
   "metadata": {},
   "outputs": [
    {
     "name": "stdout",
     "output_type": "stream",
     "text": [
      "El Tiempo promedio de renta es de  292.0  dias\n"
     ]
    }
   ],
   "source": [
    "print(\"El Tiempo promedio de renta es de \" , TiempoPromedioRenta , \" dias\")"
   ]
  },
  {
   "cell_type": "markdown",
   "metadata": {},
   "source": [
    "#### Creamos la tabla de ticket de renta "
   ]
  },
  {
   "cell_type": "code",
   "execution_count": 136,
   "metadata": {},
   "outputs": [],
   "source": [
    "#Agregar Sucursal\n",
    "TicketdeRenta = pd.DataFrame(ReservacionDataFrame[\"Renta\"] , ReservacionDataFrame[\"Auto\"])"
   ]
  },
  {
   "cell_type": "code",
   "execution_count": 137,
   "metadata": {},
   "outputs": [],
   "source": [
    "TicketdeRenta = ReservacionDataFrame[['CostoTotal', 'Auto', 'FullName','FechaSalida','StatusReserva']].copy()"
   ]
  },
  {
   "cell_type": "code",
   "execution_count": 138,
   "metadata": {},
   "outputs": [
    {
     "data": {
      "text/plain": [
       "0    False\n",
       "1    False\n",
       "2     True\n",
       "3    False\n",
       "4     True\n",
       "Name: StatusReserva, dtype: bool"
      ]
     },
     "execution_count": 138,
     "metadata": {},
     "output_type": "execute_result"
    }
   ],
   "source": [
    "TicketFinal = TicketdeRenta['StatusReserva'] == 3\n",
    "TicketFinal.head()"
   ]
  },
  {
   "cell_type": "code",
   "execution_count": 139,
   "metadata": {},
   "outputs": [],
   "source": [
    "TicketFinal2 = TicketdeRenta[TicketFinal]"
   ]
  },
  {
   "cell_type": "code",
   "execution_count": 140,
   "metadata": {},
   "outputs": [],
   "source": [
    "sucursales = db[\"Sucursales\"]\n",
    "listaSucursales =  pd.DataFrame()\n",
    "listaNormalSucursales = []\n",
    "for y in sucursales.find({}):\n",
    "    listaNormalSucursales.append(y)"
   ]
  },
  {
   "cell_type": "code",
   "execution_count": 141,
   "metadata": {},
   "outputs": [],
   "source": [
    "listaSucursales = listaSucursales.append(listaNormalSucursales)"
   ]
  },
  {
   "cell_type": "code",
   "execution_count": 142,
   "metadata": {},
   "outputs": [],
   "source": [
    "listaIDSucursales = []\n",
    "listaNombreSucursales = []\n",
    "\n",
    "for m in range(len(TicketdeRenta)):\n",
    "    y = rd.randint(0,4)\n",
    "    listaIDSucursales.append(listaSucursales.iloc[y]._id)\n",
    "    listaNombreSucursales.append(listaSucursales.iloc[y].SKU)"
   ]
  },
  {
   "cell_type": "code",
   "execution_count": 143,
   "metadata": {},
   "outputs": [],
   "source": [
    "\n",
    "listaIDSucursalesPd = pd.DataFrame({\"idSucursal\": listaIDSucursales,\"SKUSucursale\":listaNombreSucursales})"
   ]
  },
  {
   "cell_type": "code",
   "execution_count": 144,
   "metadata": {},
   "outputs": [],
   "source": [
    "TicketFinal2 = TicketFinal2.join(listaIDSucursalesPd)"
   ]
  },
  {
   "cell_type": "code",
   "execution_count": 145,
   "metadata": {},
   "outputs": [
    {
     "data": {
      "text/html": [
       "<div>\n",
       "<style scoped>\n",
       "    .dataframe tbody tr th:only-of-type {\n",
       "        vertical-align: middle;\n",
       "    }\n",
       "\n",
       "    .dataframe tbody tr th {\n",
       "        vertical-align: top;\n",
       "    }\n",
       "\n",
       "    .dataframe thead th {\n",
       "        text-align: right;\n",
       "    }\n",
       "</style>\n",
       "<table border=\"1\" class=\"dataframe\">\n",
       "  <thead>\n",
       "    <tr style=\"text-align: right;\">\n",
       "      <th></th>\n",
       "      <th>CostoTotal</th>\n",
       "      <th>Auto</th>\n",
       "      <th>FullName</th>\n",
       "      <th>FechaSalida</th>\n",
       "      <th>StatusReserva</th>\n",
       "      <th>idSucursal</th>\n",
       "      <th>SKUSucursale</th>\n",
       "    </tr>\n",
       "  </thead>\n",
       "  <tbody>\n",
       "    <tr>\n",
       "      <th>2</th>\n",
       "      <td>130650</td>\n",
       "      <td>Chevrolet Spark</td>\n",
       "      <td>Ernesto Coll Coronado</td>\n",
       "      <td>2019-02-16</td>\n",
       "      <td>3</td>\n",
       "      <td>629cd229ddb894567833c34e</td>\n",
       "      <td>pm14ra</td>\n",
       "    </tr>\n",
       "    <tr>\n",
       "      <th>4</th>\n",
       "      <td>243584</td>\n",
       "      <td>Volkswagen Vento</td>\n",
       "      <td>Gema de Guitart</td>\n",
       "      <td>2019-02-04</td>\n",
       "      <td>3</td>\n",
       "      <td>629cd229ddb894567833c34d</td>\n",
       "      <td>pm7am</td>\n",
       "    </tr>\n",
       "    <tr>\n",
       "      <th>9</th>\n",
       "      <td>308072</td>\n",
       "      <td>Nissan Versa</td>\n",
       "      <td>Severiano Serra Querol</td>\n",
       "      <td>2019-03-15</td>\n",
       "      <td>3</td>\n",
       "      <td>629cd229ddb894567833c34f</td>\n",
       "      <td>pm36eg</td>\n",
       "    </tr>\n",
       "    <tr>\n",
       "      <th>10</th>\n",
       "      <td>192768</td>\n",
       "      <td>Chevrolet Aveo</td>\n",
       "      <td>Gema de Guitart</td>\n",
       "      <td>2019-01-06</td>\n",
       "      <td>3</td>\n",
       "      <td>629cd229ddb894567833c34b</td>\n",
       "      <td>pm42lp</td>\n",
       "    </tr>\n",
       "    <tr>\n",
       "      <th>14</th>\n",
       "      <td>165490</td>\n",
       "      <td>Nissan Sentra</td>\n",
       "      <td>Felisa Quintana Alsina</td>\n",
       "      <td>2019-02-24</td>\n",
       "      <td>3</td>\n",
       "      <td>629cd229ddb894567833c34e</td>\n",
       "      <td>pm14ra</td>\n",
       "    </tr>\n",
       "    <tr>\n",
       "      <th>15</th>\n",
       "      <td>73920</td>\n",
       "      <td>Volkswagen Vento</td>\n",
       "      <td>Evangelina Roman Coronado</td>\n",
       "      <td>2019-02-21</td>\n",
       "      <td>3</td>\n",
       "      <td>629cd229ddb894567833c34d</td>\n",
       "      <td>pm7am</td>\n",
       "    </tr>\n",
       "    <tr>\n",
       "      <th>21</th>\n",
       "      <td>217360</td>\n",
       "      <td>Chevrolet Aveo</td>\n",
       "      <td>Herminia Sierra-Fonseca</td>\n",
       "      <td>2019-02-09</td>\n",
       "      <td>3</td>\n",
       "      <td>629cd229ddb894567833c34c</td>\n",
       "      <td>pm25et</td>\n",
       "    </tr>\n",
       "    <tr>\n",
       "      <th>24</th>\n",
       "      <td>202884</td>\n",
       "      <td>Renault Kwid</td>\n",
       "      <td>Emigdio Rogelio Cuenca Roca</td>\n",
       "      <td>2019-03-10</td>\n",
       "      <td>3</td>\n",
       "      <td>629cd229ddb894567833c34f</td>\n",
       "      <td>pm36eg</td>\n",
       "    </tr>\n",
       "    <tr>\n",
       "      <th>31</th>\n",
       "      <td>66240</td>\n",
       "      <td>Chevrolet Aveo</td>\n",
       "      <td>Emiliana Nebot Cervera</td>\n",
       "      <td>2019-01-20</td>\n",
       "      <td>3</td>\n",
       "      <td>629cd229ddb894567833c34c</td>\n",
       "      <td>pm25et</td>\n",
       "    </tr>\n",
       "    <tr>\n",
       "      <th>32</th>\n",
       "      <td>199459</td>\n",
       "      <td>Renault Stepway</td>\n",
       "      <td>Celestina Ibarra-Durán</td>\n",
       "      <td>2019-01-06</td>\n",
       "      <td>3</td>\n",
       "      <td>629cd229ddb894567833c34d</td>\n",
       "      <td>pm7am</td>\n",
       "    </tr>\n",
       "    <tr>\n",
       "      <th>34</th>\n",
       "      <td>95340</td>\n",
       "      <td>Nissan March</td>\n",
       "      <td>Luís Agustí Canales</td>\n",
       "      <td>2019-01-16</td>\n",
       "      <td>3</td>\n",
       "      <td>629cd229ddb894567833c34c</td>\n",
       "      <td>pm25et</td>\n",
       "    </tr>\n",
       "    <tr>\n",
       "      <th>37</th>\n",
       "      <td>97632</td>\n",
       "      <td>Chevrolet Spark</td>\n",
       "      <td>Luz de Navas</td>\n",
       "      <td>2019-02-15</td>\n",
       "      <td>3</td>\n",
       "      <td>629cd229ddb894567833c34d</td>\n",
       "      <td>pm7am</td>\n",
       "    </tr>\n",
       "    <tr>\n",
       "      <th>38</th>\n",
       "      <td>115488</td>\n",
       "      <td>Chevrolet Spark</td>\n",
       "      <td>Melchor Rolando Sans Donaire</td>\n",
       "      <td>2019-01-07</td>\n",
       "      <td>3</td>\n",
       "      <td>629cd229ddb894567833c34c</td>\n",
       "      <td>pm25et</td>\n",
       "    </tr>\n",
       "  </tbody>\n",
       "</table>\n",
       "</div>"
      ],
      "text/plain": [
       "    CostoTotal               Auto                      FullName FechaSalida  \\\n",
       "2       130650    Chevrolet Spark         Ernesto Coll Coronado  2019-02-16   \n",
       "4       243584   Volkswagen Vento               Gema de Guitart  2019-02-04   \n",
       "9       308072       Nissan Versa        Severiano Serra Querol  2019-03-15   \n",
       "10      192768     Chevrolet Aveo               Gema de Guitart  2019-01-06   \n",
       "14      165490      Nissan Sentra        Felisa Quintana Alsina  2019-02-24   \n",
       "15       73920   Volkswagen Vento     Evangelina Roman Coronado  2019-02-21   \n",
       "21      217360     Chevrolet Aveo       Herminia Sierra-Fonseca  2019-02-09   \n",
       "24      202884       Renault Kwid   Emigdio Rogelio Cuenca Roca  2019-03-10   \n",
       "31       66240     Chevrolet Aveo        Emiliana Nebot Cervera  2019-01-20   \n",
       "32      199459    Renault Stepway        Celestina Ibarra-Durán  2019-01-06   \n",
       "34       95340       Nissan March           Luís Agustí Canales  2019-01-16   \n",
       "37       97632    Chevrolet Spark                  Luz de Navas  2019-02-15   \n",
       "38      115488    Chevrolet Spark  Melchor Rolando Sans Donaire  2019-01-07   \n",
       "\n",
       "    StatusReserva                idSucursal SKUSucursale  \n",
       "2               3  629cd229ddb894567833c34e       pm14ra  \n",
       "4               3  629cd229ddb894567833c34d        pm7am  \n",
       "9               3  629cd229ddb894567833c34f       pm36eg  \n",
       "10              3  629cd229ddb894567833c34b       pm42lp  \n",
       "14              3  629cd229ddb894567833c34e       pm14ra  \n",
       "15              3  629cd229ddb894567833c34d        pm7am  \n",
       "21              3  629cd229ddb894567833c34c       pm25et  \n",
       "24              3  629cd229ddb894567833c34f       pm36eg  \n",
       "31              3  629cd229ddb894567833c34c       pm25et  \n",
       "32              3  629cd229ddb894567833c34d        pm7am  \n",
       "34              3  629cd229ddb894567833c34c       pm25et  \n",
       "37              3  629cd229ddb894567833c34d        pm7am  \n",
       "38              3  629cd229ddb894567833c34c       pm25et  "
      ]
     },
     "execution_count": 145,
     "metadata": {},
     "output_type": "execute_result"
    }
   ],
   "source": [
    "TicketFinal2"
   ]
  },
  {
   "cell_type": "code",
   "execution_count": 146,
   "metadata": {},
   "outputs": [],
   "source": [
    "# Ticket de Renta\n",
    "filepath = Path('CSV/TicketRenta.csv')\n",
    "filepath.parent.mkdir(parents=True, exist_ok=True)\n",
    "TicketFinal2.to_csv(filepath)"
   ]
  },
  {
   "cell_type": "code",
   "execution_count": 147,
   "metadata": {},
   "outputs": [
    {
     "name": "stdout",
     "output_type": "stream",
     "text": [
      "Numero de documentos : 13\n",
      "{'Auto': ' Chevrolet Spark',\n",
      " 'CostoTotal': 100165,\n",
      " 'FechaSalida': datetime.datetime(2019, 3, 10, 0, 0),\n",
      " 'FullName': 'Ernesto Coll Coronado',\n",
      " 'SKUSucursale': 'pm25et',\n",
      " 'StatusReserva': '3',\n",
      " '_id': ObjectId('62a4b91cfdb2f724e1b128c7'),\n",
      " 'idSucursal': ObjectId('629cd229ddb894567833c34c')}\n",
      "{'Auto': ' Volkswagen Vento',\n",
      " 'CostoTotal': 206976,\n",
      " 'FechaSalida': datetime.datetime(2019, 1, 19, 0, 0),\n",
      " 'FullName': 'Gema de Guitart',\n",
      " 'SKUSucursale': 'pm42lp',\n",
      " 'StatusReserva': '3',\n",
      " '_id': ObjectId('62a4b91cfdb2f724e1b128c8'),\n",
      " 'idSucursal': ObjectId('629cd229ddb894567833c34b')}\n",
      "{'Auto': ' Nissan Versa',\n",
      " 'CostoTotal': 27790,\n",
      " 'FechaSalida': datetime.datetime(2019, 3, 12, 0, 0),\n",
      " 'FullName': 'Severiano Serra Querol',\n",
      " 'SKUSucursale': 'pm36eg',\n",
      " 'StatusReserva': '3',\n",
      " '_id': ObjectId('62a4b91cfdb2f724e1b128c9'),\n",
      " 'idSucursal': ObjectId('629cd229ddb894567833c34f')}\n",
      "{'Auto': ' Chevrolet Aveo',\n",
      " 'CostoTotal': 66264,\n",
      " 'FechaSalida': datetime.datetime(2019, 3, 9, 0, 0),\n",
      " 'FullName': 'Gema de Guitart',\n",
      " 'SKUSucursale': 'pm25et',\n",
      " 'StatusReserva': '3',\n",
      " '_id': ObjectId('62a4b91cfdb2f724e1b128ca'),\n",
      " 'idSucursal': ObjectId('629cd229ddb894567833c34c')}\n",
      "{'Auto': ' Nissan Sentra',\n",
      " 'CostoTotal': 96681,\n",
      " 'FechaSalida': datetime.datetime(2019, 1, 10, 0, 0),\n",
      " 'FullName': 'Felisa Quintana Alsina',\n",
      " 'SKUSucursale': 'pm7am',\n",
      " 'StatusReserva': '3',\n",
      " '_id': ObjectId('62a4b91cfdb2f724e1b128cb'),\n",
      " 'idSucursal': ObjectId('629cd229ddb894567833c34d')}\n",
      "{'Auto': ' Volkswagen Vento',\n",
      " 'CostoTotal': 318912,\n",
      " 'FechaSalida': datetime.datetime(2019, 1, 2, 0, 0),\n",
      " 'FullName': 'Evangelina Roman Coronado',\n",
      " 'SKUSucursale': 'pm36eg',\n",
      " 'StatusReserva': '3',\n",
      " '_id': ObjectId('62a4b91cfdb2f724e1b128cc'),\n",
      " 'idSucursal': ObjectId('629cd229ddb894567833c34f')}\n",
      "{'Auto': ' Chevrolet Aveo',\n",
      " 'CostoTotal': 146120,\n",
      " 'FechaSalida': datetime.datetime(2019, 1, 15, 0, 0),\n",
      " 'FullName': 'Herminia Sierra-Fonseca',\n",
      " 'SKUSucursale': 'pm42lp',\n",
      " 'StatusReserva': '3',\n",
      " '_id': ObjectId('62a4b91cfdb2f724e1b128cd'),\n",
      " 'idSucursal': ObjectId('629cd229ddb894567833c34b')}\n",
      "{'Auto': ' Renault Kwid',\n",
      " 'CostoTotal': 193314,\n",
      " 'FechaSalida': datetime.datetime(2019, 2, 5, 0, 0),\n",
      " 'FullName': 'Emigdio Rogelio Cuenca Roca',\n",
      " 'SKUSucursale': 'pm42lp',\n",
      " 'StatusReserva': '3',\n",
      " '_id': ObjectId('62a4b91cfdb2f724e1b128ce'),\n",
      " 'idSucursal': ObjectId('629cd229ddb894567833c34b')}\n",
      "{'Auto': ' Chevrolet Aveo',\n",
      " 'CostoTotal': 122400,\n",
      " 'FechaSalida': datetime.datetime(2019, 2, 25, 0, 0),\n",
      " 'FullName': 'Emiliana Nebot Cervera',\n",
      " 'SKUSucursale': 'pm14ra',\n",
      " 'StatusReserva': '3',\n",
      " '_id': ObjectId('62a4b91cfdb2f724e1b128cf'),\n",
      " 'idSucursal': ObjectId('629cd229ddb894567833c34e')}\n",
      "{'Auto': ' Renault Stepway',\n",
      " 'CostoTotal': 349271,\n",
      " 'FechaSalida': datetime.datetime(2019, 1, 1, 0, 0),\n",
      " 'FullName': 'Celestina Ibarra-Durán',\n",
      " 'SKUSucursale': 'pm42lp',\n",
      " 'StatusReserva': '3',\n",
      " '_id': ObjectId('62a4b91cfdb2f724e1b128d0'),\n",
      " 'idSucursal': ObjectId('629cd229ddb894567833c34b')}\n",
      "{'Auto': ' Nissan March',\n",
      " 'CostoTotal': 40740,\n",
      " 'FechaSalida': datetime.datetime(2019, 1, 27, 0, 0),\n",
      " 'FullName': 'Luís Agustí Canales',\n",
      " 'SKUSucursale': 'pm36eg',\n",
      " 'StatusReserva': '3',\n",
      " '_id': ObjectId('62a4b91cfdb2f724e1b128d1'),\n",
      " 'idSucursal': ObjectId('629cd229ddb894567833c34f')}\n",
      "{'Auto': ' Chevrolet Spark',\n",
      " 'CostoTotal': 89280,\n",
      " 'FechaSalida': datetime.datetime(2019, 1, 4, 0, 0),\n",
      " 'FullName': 'Luz de Navas',\n",
      " 'SKUSucursale': 'pm42lp',\n",
      " 'StatusReserva': '3',\n",
      " '_id': ObjectId('62a4b91cfdb2f724e1b128d2'),\n",
      " 'idSucursal': ObjectId('629cd229ddb894567833c34b')}\n",
      "{'Auto': ' Chevrolet Spark',\n",
      " 'CostoTotal': 13248,\n",
      " 'FechaSalida': datetime.datetime(2019, 2, 19, 0, 0),\n",
      " 'FullName': 'Melchor Rolando Sans Donaire',\n",
      " 'SKUSucursale': 'pm36eg',\n",
      " 'StatusReserva': '3',\n",
      " '_id': ObjectId('62a4b91cfdb2f724e1b128d3'),\n",
      " 'idSucursal': ObjectId('629cd229ddb894567833c34f')}\n"
     ]
    }
   ],
   "source": [
    "finalRenta = db[\"TicketRenta\"]\n",
    "y = finalRenta.count_documents({})\n",
    "print(\"Numero de documentos :\", y)\n",
    "for x in finalRenta.find():\n",
    "    pprint(x)"
   ]
  },
  {
   "cell_type": "markdown",
   "metadata": {},
   "source": [
    "Conclusion : La utilizacion de MongoDB para realizar este proyecto de Base de Datos por la simpleza y la continua integracion para escalar horizontalmente en caso de requerir más implementacion futura de reglas de negocio salientes. "
   ]
  }
 ],
 "metadata": {
  "interpreter": {
   "hash": "12e7b2db913c7cced4d5bf71ce365c438f2053887e824f813caa9208ccef4b13"
  },
  "kernelspec": {
   "display_name": "Python 3 (ipykernel)",
   "language": "python",
   "name": "python3"
  },
  "language_info": {
   "codemirror_mode": {
    "name": "ipython",
    "version": 3
   },
   "file_extension": ".py",
   "mimetype": "text/x-python",
   "name": "python",
   "nbconvert_exporter": "python",
   "pygments_lexer": "ipython3",
   "version": "3.9.7"
  }
 },
 "nbformat": 4,
 "nbformat_minor": 2
}
