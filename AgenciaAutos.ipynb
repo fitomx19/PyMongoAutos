{
 "cells": [
  {
   "cell_type": "markdown",
   "metadata": {},
   "source": [
    "## Agencia de Renta de Autos \n",
    "#### Bases de Datos Avanzadas\n",
    "##### Profesor Botello\n",
    "###### Por: Inserte Nombre integrantes"
   ]
  },
  {
   "cell_type": "markdown",
   "metadata": {},
   "source": [
    "En este trabajo vamos a enumerar los pasos a seguir para crear la base de Datos en MongoDB para asi poderla consultar a traves de este notebook escrito con el lenguaje Python\n",
    "* Creamos un Archivo Generando Nombres de Empleados, Sucursales y Clientes a traves de iteraciones con Python y diccionarios obtenidos en la red\n",
    "* Realizamos Web Scrapping , y obtenemos datos de renta de vehiculos para utilizar datos más precisos\n",
    "* Exportamos a CSV los dataframes creados \n",
    "* Importamos con la herramienta grafica de MongoDBCompass los csv y los agregamos a las tablas, más que nada las tablas catalogo\n",
    "* Para las tablas que forman parte de la operacion en este documento iteraremos las diferentes operaciones con el fin de Generar datos lo más precisos posibles\n",
    "* Vamos a contestar las preguntas generadas en las reglas de negocio apoyandonos de graficas a partir de la libreria matplotlib"
   ]
  },
  {
   "cell_type": "markdown",
   "metadata": {},
   "source": [
    "#### Conexion a la Base de datos"
   ]
  },
  {
   "cell_type": "code",
   "execution_count": null,
   "metadata": {},
   "outputs": [],
   "source": [
    "#Creamos la base de datos\n",
    "#import pymongo\n",
    "\n",
    "#myclient = pymongo.MongoClient(\"mongodb://localhost:27017/\")\n",
    "\n",
    "#mydb = myclient[\"RentaVehiculos\"]"
   ]
  },
  {
   "cell_type": "code",
   "execution_count": 2,
   "metadata": {},
   "outputs": [
    {
     "data": {
      "text/plain": [
       "Database(MongoClient(host=['localhost:27017'], document_class=dict, tz_aware=False, connect=True), 'RentaVehiculos')"
      ]
     },
     "execution_count": 2,
     "metadata": {},
     "output_type": "execute_result"
    }
   ],
   "source": [
    "import pymongo\n",
    "import json\n",
    "from pymongo import MongoClient\n",
    "client = MongoClient('localhost',27017)\n",
    "db = client['RentaVehiculos']\n",
    "db"
   ]
  },
  {
   "cell_type": "code",
   "execution_count": 14,
   "metadata": {},
   "outputs": [
    {
     "name": "stdout",
     "output_type": "stream",
     "text": [
      "['Autos', 'Clientes', 'Sucursales', 'Empleados']\n"
     ]
    }
   ],
   "source": [
    "print(db.list_collection_names())"
   ]
  },
  {
   "cell_type": "markdown",
   "metadata": {},
   "source": [
    "![BasededatosCreada](\"./ScreenShots/1.png\")"
   ]
  },
  {
   "cell_type": "code",
   "execution_count": 10,
   "metadata": {},
   "outputs": [
    {
     "name": "stdout",
     "output_type": "stream",
     "text": [
      "Numero de documentos : 99\n",
      "{'Apellido': 'Lillo Amo',\n",
      " 'Direccion': 'CountryOlive',\n",
      " 'Email': 'TSAT231020003588@outlook.com',\n",
      " 'FechaNacimiento': '26/03/1997',\n",
      " 'INE': '810515',\n",
      " 'Idioma': 'Ingles/Español',\n",
      " 'Nombre': 'Valentín',\n",
      " 'RFC': 'VLIA26031997982',\n",
      " 'Telefono': '55889597',\n",
      " '_id': ObjectId('629cc53dddb894567833c2b8')}\n",
      "{'Apellido': 'Téllez',\n",
      " 'Direccion': 'Street,VenezuelaHeather',\n",
      " 'Email': 'YMAA050619819712@hotmail.com',\n",
      " 'FechaNacimiento': '09/03/1976',\n",
      " 'INE': '412346',\n",
      " 'Idioma': 'Ingles',\n",
      " 'Nombre': 'Regina',\n",
      " 'RFC': 'RTÉL09031976739',\n",
      " 'Telefono': '55951632',\n",
      " '_id': ObjectId('629cc53dddb894567833c2b9')}\n",
      "{'Apellido': 'Rogelio Cuenca Roca',\n",
      " 'Direccion': 'Lane,VenezuelaCedar',\n",
      " 'Email': 'ADER260419991673@outlook.com',\n",
      " 'FechaNacimiento': '19/12/1987',\n",
      " 'INE': '409106',\n",
      " 'Idioma': 'Español',\n",
      " 'Nombre': 'Emigdio',\n",
      " 'RFC': 'EROC19121987946',\n",
      " 'Telefono': '55521701',\n",
      " '_id': ObjectId('629cc53dddb894567833c2ba')}\n"
     ]
    }
   ],
   "source": [
    "mycol = db[\"Clientes\"]\n",
    "from pprint import pprint\n",
    "y = mycol.count_documents({})\n",
    "print(\"Numero de documentos :\" , y )\n",
    "for x in mycol.find().limit(3):\n",
    "  pprint(x)"
   ]
  },
  {
   "cell_type": "markdown",
   "metadata": {},
   "source": [
    "Checamos 3  vehiculos existentes "
   ]
  },
  {
   "cell_type": "code",
   "execution_count": 13,
   "metadata": {},
   "outputs": [
    {
     "name": "stdout",
     "output_type": "stream",
     "text": [
      "Numero de documentos : 30\n",
      "{'Auto': ' Chevrolet Spark',\n",
      " 'Color': 'Blanco',\n",
      " 'Combustible': 'Gasolina',\n",
      " 'Kilometraje': 30500,\n",
      " 'Modelo': '2017',\n",
      " 'Placa': '229-PKL',\n",
      " 'Renta': 288,\n",
      " '_id': ObjectId('629cd257ddb894567833c352')}\n",
      "{'Auto': ' Chevrolet Spark',\n",
      " 'Color': 'Rojo',\n",
      " 'Combustible': 'Gasolina',\n",
      " 'Kilometraje': 28464,\n",
      " 'Modelo': ' 2016',\n",
      " 'Placa': '739-UH4',\n",
      " 'Renta': 918,\n",
      " '_id': ObjectId('629cd257ddb894567833c353')}\n",
      "{'Auto': ' Chevrolet Aveo',\n",
      " 'Color': 'Gris',\n",
      " 'Combustible': 'Diesel',\n",
      " 'Kilometraje': 78158,\n",
      " 'Modelo': ' 2016',\n",
      " 'Placa': '443-GXS',\n",
      " 'Renta': 520,\n",
      " '_id': ObjectId('629cd257ddb894567833c354')}\n"
     ]
    }
   ],
   "source": [
    "mycolVehiculos = db[\"Autos\"]\n",
    "from pprint import pprint\n",
    "y = mycolVehiculos.count_documents({})\n",
    "print(\"Numero de documentos :\" , y )\n",
    "for x in mycolVehiculos.find().limit(3):\n",
    "  pprint(x)"
   ]
  },
  {
   "cell_type": "markdown",
   "metadata": {},
   "source": [
    "Creamos la tabla Reservaciones"
   ]
  },
  {
   "cell_type": "code",
   "execution_count": 15,
   "metadata": {},
   "outputs": [],
   "source": [
    "#NuevaColeccionReservaciones = db[\"Reservaciones\"]"
   ]
  },
  {
   "cell_type": "markdown",
   "metadata": {},
   "source": [
    "Cargaremos en tres listas los diferentes ID para crear de manera dinamica la tabla de reservaciones"
   ]
  },
  {
   "cell_type": "code",
   "execution_count": 21,
   "metadata": {},
   "outputs": [],
   "source": [
    "idCliente = []\n",
    "mycol = db[\"Clientes\"]\n",
    "for x in mycol.find():\n",
    "    idCliente.append((x[\"_id\"]))"
   ]
  },
  {
   "cell_type": "code",
   "execution_count": 24,
   "metadata": {},
   "outputs": [],
   "source": [
    "idAutos = []\n",
    "colAutos = db[\"Autos\"]\n",
    "for x in colAutos.find():\n",
    "    idAutos.append((x[\"_id\"]))"
   ]
  },
  {
   "cell_type": "code",
   "execution_count": 26,
   "metadata": {},
   "outputs": [],
   "source": [
    "idEmpleados = []\n",
    "colEmpleados = db[\"Empleados\"]\n",
    "for x in colEmpleados.find():\n",
    "    idEmpleados.append((x[\"_id\"]))"
   ]
  },
  {
   "cell_type": "code",
   "execution_count": 85,
   "metadata": {},
   "outputs": [],
   "source": [
    "\n",
    "import json\n",
    "import random as rd\n",
    "import datetime\n",
    "from bson import json_util\n",
    "import csv\n",
    "from pathlib import Path  \n",
    "import pandas as pd"
   ]
  },
  {
   "cell_type": "code",
   "execution_count": 52,
   "metadata": {},
   "outputs": [],
   "source": [
    "def generarFechas():\n",
    "    return datetime.datetime(rd.randint(2019,2022), rd.randint(1,4), rd.randint(1,28))"
   ]
  },
  {
   "cell_type": "code",
   "execution_count": 83,
   "metadata": {},
   "outputs": [],
   "source": [
    "# Datos para ser escrito el diccionario que creara un dump de csv\n",
    "idClientes = []\n",
    "idVendedor = []\n",
    "idVehiculo = []\n",
    "StatusReserva = []\n",
    "FechasSalida = []\n",
    "FechasIngreso = []\n",
    "\n",
    "for x in range(100):\n",
    "    idClientes.append(idCliente[rd.randint(0,len(idCliente))])\n",
    "    idVendedor.append(idEmpleados[rd.randint(0,len(idEmpleados))])\n",
    "    idVehiculo.append(idAutos[rd.randint(0,len(idAutos))])\n",
    "    StatusReserva.append(rd.randint(0,3))\n",
    "    FechasSalida.append(generarFechas())\n",
    "    FechasIngreso.append(generarFechas())\n"
   ]
  },
  {
   "cell_type": "code",
   "execution_count": 84,
   "metadata": {},
   "outputs": [
    {
     "data": {
      "text/html": [
       "<div>\n",
       "<style scoped>\n",
       "    .dataframe tbody tr th:only-of-type {\n",
       "        vertical-align: middle;\n",
       "    }\n",
       "\n",
       "    .dataframe tbody tr th {\n",
       "        vertical-align: top;\n",
       "    }\n",
       "\n",
       "    .dataframe thead th {\n",
       "        text-align: right;\n",
       "    }\n",
       "</style>\n",
       "<table border=\"1\" class=\"dataframe\">\n",
       "  <thead>\n",
       "    <tr style=\"text-align: right;\">\n",
       "      <th></th>\n",
       "      <th>idCliente</th>\n",
       "      <th>idEmpleado</th>\n",
       "      <th>idVehiculo</th>\n",
       "      <th>StatusReserva</th>\n",
       "      <th>FechaSalida</th>\n",
       "      <th>FechaIngreso</th>\n",
       "    </tr>\n",
       "  </thead>\n",
       "  <tbody>\n",
       "    <tr>\n",
       "      <th>0</th>\n",
       "      <td>629cc53dddb894567833c2f3</td>\n",
       "      <td>629cc8a5ddb894567833c334</td>\n",
       "      <td>629cd257ddb894567833c35c</td>\n",
       "      <td>3</td>\n",
       "      <td>2021-04-21</td>\n",
       "      <td>2019-02-17</td>\n",
       "    </tr>\n",
       "    <tr>\n",
       "      <th>1</th>\n",
       "      <td>629cc53dddb894567833c316</td>\n",
       "      <td>629cc8a5ddb894567833c328</td>\n",
       "      <td>629cd257ddb894567833c365</td>\n",
       "      <td>2</td>\n",
       "      <td>2020-03-14</td>\n",
       "      <td>2022-04-20</td>\n",
       "    </tr>\n",
       "    <tr>\n",
       "      <th>2</th>\n",
       "      <td>629cc53dddb894567833c2d5</td>\n",
       "      <td>629cc8a5ddb894567833c320</td>\n",
       "      <td>629cd257ddb894567833c368</td>\n",
       "      <td>1</td>\n",
       "      <td>2019-01-09</td>\n",
       "      <td>2021-02-12</td>\n",
       "    </tr>\n",
       "    <tr>\n",
       "      <th>3</th>\n",
       "      <td>629cc53dddb894567833c2d7</td>\n",
       "      <td>629cc8a5ddb894567833c32d</td>\n",
       "      <td>629cd257ddb894567833c352</td>\n",
       "      <td>3</td>\n",
       "      <td>2020-03-10</td>\n",
       "      <td>2019-01-28</td>\n",
       "    </tr>\n",
       "    <tr>\n",
       "      <th>4</th>\n",
       "      <td>629cc53dddb894567833c313</td>\n",
       "      <td>629cc8a5ddb894567833c320</td>\n",
       "      <td>629cd257ddb894567833c358</td>\n",
       "      <td>1</td>\n",
       "      <td>2022-03-28</td>\n",
       "      <td>2022-01-27</td>\n",
       "    </tr>\n",
       "    <tr>\n",
       "      <th>...</th>\n",
       "      <td>...</td>\n",
       "      <td>...</td>\n",
       "      <td>...</td>\n",
       "      <td>...</td>\n",
       "      <td>...</td>\n",
       "      <td>...</td>\n",
       "    </tr>\n",
       "    <tr>\n",
       "      <th>95</th>\n",
       "      <td>629cc53dddb894567833c318</td>\n",
       "      <td>629cc8a5ddb894567833c31d</td>\n",
       "      <td>629cd257ddb894567833c353</td>\n",
       "      <td>0</td>\n",
       "      <td>2021-04-27</td>\n",
       "      <td>2020-02-05</td>\n",
       "    </tr>\n",
       "    <tr>\n",
       "      <th>96</th>\n",
       "      <td>629cc53dddb894567833c2e3</td>\n",
       "      <td>629cc8a5ddb894567833c321</td>\n",
       "      <td>629cd257ddb894567833c358</td>\n",
       "      <td>2</td>\n",
       "      <td>2022-04-27</td>\n",
       "      <td>2019-04-21</td>\n",
       "    </tr>\n",
       "    <tr>\n",
       "      <th>97</th>\n",
       "      <td>629cc53dddb894567833c2c7</td>\n",
       "      <td>629cc8a5ddb894567833c32b</td>\n",
       "      <td>629cd257ddb894567833c362</td>\n",
       "      <td>2</td>\n",
       "      <td>2020-01-19</td>\n",
       "      <td>2022-01-12</td>\n",
       "    </tr>\n",
       "    <tr>\n",
       "      <th>98</th>\n",
       "      <td>629cc53dddb894567833c2d0</td>\n",
       "      <td>629cc8a5ddb894567833c32a</td>\n",
       "      <td>629cd257ddb894567833c35d</td>\n",
       "      <td>2</td>\n",
       "      <td>2020-02-13</td>\n",
       "      <td>2022-02-02</td>\n",
       "    </tr>\n",
       "    <tr>\n",
       "      <th>99</th>\n",
       "      <td>629cc53dddb894567833c2c1</td>\n",
       "      <td>629cc8a5ddb894567833c333</td>\n",
       "      <td>629cd257ddb894567833c36d</td>\n",
       "      <td>0</td>\n",
       "      <td>2019-01-02</td>\n",
       "      <td>2021-01-10</td>\n",
       "    </tr>\n",
       "  </tbody>\n",
       "</table>\n",
       "<p>100 rows × 6 columns</p>\n",
       "</div>"
      ],
      "text/plain": [
       "                   idCliente                idEmpleado  \\\n",
       "0   629cc53dddb894567833c2f3  629cc8a5ddb894567833c334   \n",
       "1   629cc53dddb894567833c316  629cc8a5ddb894567833c328   \n",
       "2   629cc53dddb894567833c2d5  629cc8a5ddb894567833c320   \n",
       "3   629cc53dddb894567833c2d7  629cc8a5ddb894567833c32d   \n",
       "4   629cc53dddb894567833c313  629cc8a5ddb894567833c320   \n",
       "..                       ...                       ...   \n",
       "95  629cc53dddb894567833c318  629cc8a5ddb894567833c31d   \n",
       "96  629cc53dddb894567833c2e3  629cc8a5ddb894567833c321   \n",
       "97  629cc53dddb894567833c2c7  629cc8a5ddb894567833c32b   \n",
       "98  629cc53dddb894567833c2d0  629cc8a5ddb894567833c32a   \n",
       "99  629cc53dddb894567833c2c1  629cc8a5ddb894567833c333   \n",
       "\n",
       "                  idVehiculo  StatusReserva FechaSalida FechaIngreso  \n",
       "0   629cd257ddb894567833c35c              3  2021-04-21   2019-02-17  \n",
       "1   629cd257ddb894567833c365              2  2020-03-14   2022-04-20  \n",
       "2   629cd257ddb894567833c368              1  2019-01-09   2021-02-12  \n",
       "3   629cd257ddb894567833c352              3  2020-03-10   2019-01-28  \n",
       "4   629cd257ddb894567833c358              1  2022-03-28   2022-01-27  \n",
       "..                       ...            ...         ...          ...  \n",
       "95  629cd257ddb894567833c353              0  2021-04-27   2020-02-05  \n",
       "96  629cd257ddb894567833c358              2  2022-04-27   2019-04-21  \n",
       "97  629cd257ddb894567833c362              2  2020-01-19   2022-01-12  \n",
       "98  629cd257ddb894567833c35d              2  2020-02-13   2022-02-02  \n",
       "99  629cd257ddb894567833c36d              0  2019-01-02   2021-01-10  \n",
       "\n",
       "[100 rows x 6 columns]"
      ]
     },
     "execution_count": 84,
     "metadata": {},
     "output_type": "execute_result"
    }
   ],
   "source": [
    "\n",
    "Reservacion = pd.DataFrame(list(zip(idClientes, idVendedor,idVehiculo,StatusReserva,FechasSalida,FechasIngreso)),\n",
    "               columns =['idCliente', 'idEmpleado', 'idVehiculo','StatusReserva','FechaSalida','FechaIngreso'])\n",
    "\n",
    "Reservacion"
   ]
  },
  {
   "cell_type": "code",
   "execution_count": 86,
   "metadata": {},
   "outputs": [],
   "source": [
    "#Autos\n",
    "filepath = Path('CSV/Reservacion.csv')  \n",
    "filepath.parent.mkdir(parents=True, exist_ok=True)  \n",
    "Reservacion.to_csv(filepath)  "
   ]
  },
  {
   "cell_type": "code",
   "execution_count": 11,
   "metadata": {},
   "outputs": [
    {
     "name": "stdout",
     "output_type": "stream",
     "text": [
      "{'FechaIngreso': datetime.datetime(2022, 4, 20, 0, 0),\n",
      " 'FechaSalida': datetime.datetime(2020, 3, 14, 0, 0),\n",
      " 'StatusReserva': 2,\n",
      " '_id': ObjectId('629ceff1fdb2f724e1b127e2'),\n",
      " 'idCliente': ObjectId('629cc53dddb894567833c316'),\n",
      " 'idEmpleado': ObjectId('629cc8a5ddb894567833c328'),\n",
      " 'idVehiculo': ObjectId('629cd257ddb894567833c365')}\n",
      "{'FechaIngreso': datetime.datetime(2019, 3, 23, 0, 0),\n",
      " 'FechaSalida': datetime.datetime(2019, 1, 22, 0, 0),\n",
      " 'StatusReserva': 1,\n",
      " '_id': ObjectId('629ceff1fdb2f724e1b127e7'),\n",
      " 'idCliente': ObjectId('629cc53dddb894567833c2f3'),\n",
      " 'idEmpleado': ObjectId('629cc8a5ddb894567833c33b'),\n",
      " 'idVehiculo': ObjectId('629cd257ddb894567833c365')}\n",
      "{'FechaIngreso': datetime.datetime(2022, 1, 8, 0, 0),\n",
      " 'FechaSalida': datetime.datetime(2021, 4, 15, 0, 0),\n",
      " 'StatusReserva': 0,\n",
      " '_id': ObjectId('629ceff1fdb2f724e1b127f8'),\n",
      " 'idCliente': ObjectId('629cc53dddb894567833c2bf'),\n",
      " 'idEmpleado': ObjectId('629cc8a5ddb894567833c340'),\n",
      " 'idVehiculo': ObjectId('629cd257ddb894567833c365')}\n",
      "{'FechaIngreso': datetime.datetime(2022, 3, 18, 0, 0),\n",
      " 'FechaSalida': datetime.datetime(2019, 3, 26, 0, 0),\n",
      " 'StatusReserva': 1,\n",
      " '_id': ObjectId('629ceff1fdb2f724e1b12805'),\n",
      " 'idCliente': ObjectId('629cc53dddb894567833c2e2'),\n",
      " 'idEmpleado': ObjectId('629cc8a5ddb894567833c32b'),\n",
      " 'idVehiculo': ObjectId('629cd257ddb894567833c365')}\n",
      "{'FechaIngreso': datetime.datetime(2019, 2, 5, 0, 0),\n",
      " 'FechaSalida': datetime.datetime(2021, 1, 17, 0, 0),\n",
      " 'StatusReserva': 2,\n",
      " '_id': ObjectId('629ceff1fdb2f724e1b12825'),\n",
      " 'idCliente': ObjectId('629cc53dddb894567833c301'),\n",
      " 'idEmpleado': ObjectId('629cc8a5ddb894567833c323'),\n",
      " 'idVehiculo': ObjectId('629cd257ddb894567833c365')}\n"
     ]
    }
   ],
   "source": [
    "#seleccionar cuantas veces se rento este carro 629cd257ddb894567833c35d\n",
    "from bson.objectid import ObjectId\n",
    "mycol2 = db[\"Reservacion\"]\n",
    "for x in mycol2.find({\"idVehiculo\":ObjectId(\"629cd257ddb894567833c365\")}):\n",
    "  pprint(x)"
   ]
  },
  {
   "cell_type": "code",
   "execution_count": 18,
   "metadata": {},
   "outputs": [
    {
     "name": "stdout",
     "output_type": "stream",
     "text": [
      "{'_id': ObjectId('629cd257ddb894567833c365'), 'Auto': ' Fiat Uno', 'Modelo': ' 2019', 'Renta': 741, 'Color': 'Verde', 'Kilometraje': 59211, 'Combustible': 'Gasolina', 'Placa': '643-NZJ'}\n",
      "ID:  629ceff1fdb2f724e1b127e2 Auto: 629cd257ddb894567833c365\n",
      "ID:  629ceff1fdb2f724e1b127e7 Auto: 629cd257ddb894567833c365\n",
      "ID:  629ceff1fdb2f724e1b127f8 Auto: 629cd257ddb894567833c365\n",
      "ID:  629ceff1fdb2f724e1b12805 Auto: 629cd257ddb894567833c365\n",
      "ID:  629ceff1fdb2f724e1b12825 Auto: 629cd257ddb894567833c365\n"
     ]
    }
   ],
   "source": [
    "VecesQueSeUsoXAuto = {}\n",
    "\n",
    "Reservacion = db[\"Reservacion\"]\n",
    "Autos = db[\"Autos\"]\n",
    "\n",
    "for x in Autos.find({\"_id\":ObjectId(\"629cd257ddb894567833c365\")}):\n",
    "  print(x)\n",
    "\n",
    "for x in Reservacion.find({\"idVehiculo\":ObjectId(\"629cd257ddb894567833c365\")}):\n",
    "    print( 'ID: ' , x['_id'] , \"Auto:\" , x['idVehiculo'])\n",
    "    VecesQueSeUsoXAuto.update({x['_id'] : x['idVehiculo'] })"
   ]
  },
  {
   "cell_type": "code",
   "execution_count": 19,
   "metadata": {},
   "outputs": [
    {
     "ename": "TypeError",
     "evalue": "unsupported operand type(s) for +: 'int' and 'ObjectId'",
     "output_type": "error",
     "traceback": [
      "\u001b[0;31m---------------------------------------------------------------------------\u001b[0m",
      "\u001b[0;31mTypeError\u001b[0m                                 Traceback (most recent call last)",
      "\u001b[0;32m/var/folders/zb/0l4s85s95rzbg13c3_fm6k540000gn/T/ipykernel_70221/1617392640.py\u001b[0m in \u001b[0;36m<module>\u001b[0;34m\u001b[0m\n\u001b[1;32m      8\u001b[0m \u001b[0mplt\u001b[0m\u001b[0;34m.\u001b[0m\u001b[0mrcParams\u001b[0m\u001b[0;34m[\u001b[0m\u001b[0;34m\"figure.autolayout\"\u001b[0m\u001b[0;34m]\u001b[0m \u001b[0;34m=\u001b[0m \u001b[0;32mTrue\u001b[0m\u001b[0;34m\u001b[0m\u001b[0;34m\u001b[0m\u001b[0m\n\u001b[1;32m      9\u001b[0m \u001b[0mplt\u001b[0m\u001b[0;34m.\u001b[0m\u001b[0mstyle\u001b[0m\u001b[0;34m.\u001b[0m\u001b[0muse\u001b[0m\u001b[0;34m(\u001b[0m\u001b[0;34m'vibrant'\u001b[0m\u001b[0;34m)\u001b[0m\u001b[0;34m\u001b[0m\u001b[0;34m\u001b[0m\u001b[0m\n\u001b[0;32m---> 10\u001b[0;31m \u001b[0mplt\u001b[0m\u001b[0;34m.\u001b[0m\u001b[0mbar\u001b[0m\u001b[0;34m(\u001b[0m\u001b[0mrange\u001b[0m\u001b[0;34m(\u001b[0m\u001b[0mlen\u001b[0m\u001b[0;34m(\u001b[0m\u001b[0mVecesQueSeUsoXAuto\u001b[0m\u001b[0;34m)\u001b[0m\u001b[0;34m)\u001b[0m\u001b[0;34m,\u001b[0m \u001b[0mlist\u001b[0m\u001b[0;34m(\u001b[0m\u001b[0mVecesQueSeUsoXAuto\u001b[0m\u001b[0;34m.\u001b[0m\u001b[0mvalues\u001b[0m\u001b[0;34m(\u001b[0m\u001b[0;34m)\u001b[0m\u001b[0;34m)\u001b[0m\u001b[0;34m,\u001b[0m \u001b[0malign\u001b[0m\u001b[0;34m=\u001b[0m\u001b[0;34m'center'\u001b[0m\u001b[0;34m)\u001b[0m\u001b[0;34m\u001b[0m\u001b[0;34m\u001b[0m\u001b[0m\n\u001b[0m\u001b[1;32m     11\u001b[0m \u001b[0mplt\u001b[0m\u001b[0;34m.\u001b[0m\u001b[0mxticks\u001b[0m\u001b[0;34m(\u001b[0m\u001b[0mrange\u001b[0m\u001b[0;34m(\u001b[0m\u001b[0mlen\u001b[0m\u001b[0;34m(\u001b[0m\u001b[0mVecesQueSeUsoXAuto\u001b[0m\u001b[0;34m)\u001b[0m\u001b[0;34m)\u001b[0m\u001b[0;34m,\u001b[0m \u001b[0mlist\u001b[0m\u001b[0;34m(\u001b[0m\u001b[0mVecesQueSeUsoXAuto\u001b[0m\u001b[0;34m.\u001b[0m\u001b[0mkeys\u001b[0m\u001b[0;34m(\u001b[0m\u001b[0;34m)\u001b[0m\u001b[0;34m)\u001b[0m\u001b[0;34m)\u001b[0m\u001b[0;34m\u001b[0m\u001b[0;34m\u001b[0m\u001b[0m\n\u001b[1;32m     12\u001b[0m \u001b[0mplt\u001b[0m\u001b[0;34m.\u001b[0m\u001b[0mxticks\u001b[0m\u001b[0;34m(\u001b[0m\u001b[0mfontsize\u001b[0m\u001b[0;34m=\u001b[0m\u001b[0;36m10\u001b[0m\u001b[0;34m)\u001b[0m\u001b[0;34m\u001b[0m\u001b[0;34m\u001b[0m\u001b[0m\n",
      "\u001b[0;32m~/opt/anaconda3/lib/python3.9/site-packages/matplotlib/pyplot.py\u001b[0m in \u001b[0;36mbar\u001b[0;34m(x, height, width, bottom, align, data, **kwargs)\u001b[0m\n\u001b[1;32m   2649\u001b[0m         \u001b[0mx\u001b[0m\u001b[0;34m,\u001b[0m \u001b[0mheight\u001b[0m\u001b[0;34m,\u001b[0m \u001b[0mwidth\u001b[0m\u001b[0;34m=\u001b[0m\u001b[0;36m0.8\u001b[0m\u001b[0;34m,\u001b[0m \u001b[0mbottom\u001b[0m\u001b[0;34m=\u001b[0m\u001b[0;32mNone\u001b[0m\u001b[0;34m,\u001b[0m \u001b[0;34m*\u001b[0m\u001b[0;34m,\u001b[0m \u001b[0malign\u001b[0m\u001b[0;34m=\u001b[0m\u001b[0;34m'center'\u001b[0m\u001b[0;34m,\u001b[0m\u001b[0;34m\u001b[0m\u001b[0;34m\u001b[0m\u001b[0m\n\u001b[1;32m   2650\u001b[0m         data=None, **kwargs):\n\u001b[0;32m-> 2651\u001b[0;31m     return gca().bar(\n\u001b[0m\u001b[1;32m   2652\u001b[0m         \u001b[0mx\u001b[0m\u001b[0;34m,\u001b[0m \u001b[0mheight\u001b[0m\u001b[0;34m,\u001b[0m \u001b[0mwidth\u001b[0m\u001b[0;34m=\u001b[0m\u001b[0mwidth\u001b[0m\u001b[0;34m,\u001b[0m \u001b[0mbottom\u001b[0m\u001b[0;34m=\u001b[0m\u001b[0mbottom\u001b[0m\u001b[0;34m,\u001b[0m \u001b[0malign\u001b[0m\u001b[0;34m=\u001b[0m\u001b[0malign\u001b[0m\u001b[0;34m,\u001b[0m\u001b[0;34m\u001b[0m\u001b[0;34m\u001b[0m\u001b[0m\n\u001b[1;32m   2653\u001b[0m         **({\"data\": data} if data is not None else {}), **kwargs)\n",
      "\u001b[0;32m~/opt/anaconda3/lib/python3.9/site-packages/matplotlib/__init__.py\u001b[0m in \u001b[0;36minner\u001b[0;34m(ax, data, *args, **kwargs)\u001b[0m\n\u001b[1;32m   1359\u001b[0m     \u001b[0;32mdef\u001b[0m \u001b[0minner\u001b[0m\u001b[0;34m(\u001b[0m\u001b[0max\u001b[0m\u001b[0;34m,\u001b[0m \u001b[0;34m*\u001b[0m\u001b[0margs\u001b[0m\u001b[0;34m,\u001b[0m \u001b[0mdata\u001b[0m\u001b[0;34m=\u001b[0m\u001b[0;32mNone\u001b[0m\u001b[0;34m,\u001b[0m \u001b[0;34m**\u001b[0m\u001b[0mkwargs\u001b[0m\u001b[0;34m)\u001b[0m\u001b[0;34m:\u001b[0m\u001b[0;34m\u001b[0m\u001b[0;34m\u001b[0m\u001b[0m\n\u001b[1;32m   1360\u001b[0m         \u001b[0;32mif\u001b[0m \u001b[0mdata\u001b[0m \u001b[0;32mis\u001b[0m \u001b[0;32mNone\u001b[0m\u001b[0;34m:\u001b[0m\u001b[0;34m\u001b[0m\u001b[0;34m\u001b[0m\u001b[0m\n\u001b[0;32m-> 1361\u001b[0;31m             \u001b[0;32mreturn\u001b[0m \u001b[0mfunc\u001b[0m\u001b[0;34m(\u001b[0m\u001b[0max\u001b[0m\u001b[0;34m,\u001b[0m \u001b[0;34m*\u001b[0m\u001b[0mmap\u001b[0m\u001b[0;34m(\u001b[0m\u001b[0msanitize_sequence\u001b[0m\u001b[0;34m,\u001b[0m \u001b[0margs\u001b[0m\u001b[0;34m)\u001b[0m\u001b[0;34m,\u001b[0m \u001b[0;34m**\u001b[0m\u001b[0mkwargs\u001b[0m\u001b[0;34m)\u001b[0m\u001b[0;34m\u001b[0m\u001b[0;34m\u001b[0m\u001b[0m\n\u001b[0m\u001b[1;32m   1362\u001b[0m \u001b[0;34m\u001b[0m\u001b[0m\n\u001b[1;32m   1363\u001b[0m         \u001b[0mbound\u001b[0m \u001b[0;34m=\u001b[0m \u001b[0mnew_sig\u001b[0m\u001b[0;34m.\u001b[0m\u001b[0mbind\u001b[0m\u001b[0;34m(\u001b[0m\u001b[0max\u001b[0m\u001b[0;34m,\u001b[0m \u001b[0;34m*\u001b[0m\u001b[0margs\u001b[0m\u001b[0;34m,\u001b[0m \u001b[0;34m**\u001b[0m\u001b[0mkwargs\u001b[0m\u001b[0;34m)\u001b[0m\u001b[0;34m\u001b[0m\u001b[0;34m\u001b[0m\u001b[0m\n",
      "\u001b[0;32m~/opt/anaconda3/lib/python3.9/site-packages/matplotlib/axes/_axes.py\u001b[0m in \u001b[0;36mbar\u001b[0;34m(self, x, height, width, bottom, align, **kwargs)\u001b[0m\n\u001b[1;32m   2355\u001b[0m                    hatch)\n\u001b[1;32m   2356\u001b[0m         \u001b[0;32mfor\u001b[0m \u001b[0ml\u001b[0m\u001b[0;34m,\u001b[0m \u001b[0mb\u001b[0m\u001b[0;34m,\u001b[0m \u001b[0mw\u001b[0m\u001b[0;34m,\u001b[0m \u001b[0mh\u001b[0m\u001b[0;34m,\u001b[0m \u001b[0mc\u001b[0m\u001b[0;34m,\u001b[0m \u001b[0me\u001b[0m\u001b[0;34m,\u001b[0m \u001b[0mlw\u001b[0m\u001b[0;34m,\u001b[0m \u001b[0mhtch\u001b[0m \u001b[0;32min\u001b[0m \u001b[0margs\u001b[0m\u001b[0;34m:\u001b[0m\u001b[0;34m\u001b[0m\u001b[0;34m\u001b[0m\u001b[0m\n\u001b[0;32m-> 2357\u001b[0;31m             r = mpatches.Rectangle(\n\u001b[0m\u001b[1;32m   2358\u001b[0m                 \u001b[0mxy\u001b[0m\u001b[0;34m=\u001b[0m\u001b[0;34m(\u001b[0m\u001b[0ml\u001b[0m\u001b[0;34m,\u001b[0m \u001b[0mb\u001b[0m\u001b[0;34m)\u001b[0m\u001b[0;34m,\u001b[0m \u001b[0mwidth\u001b[0m\u001b[0;34m=\u001b[0m\u001b[0mw\u001b[0m\u001b[0;34m,\u001b[0m \u001b[0mheight\u001b[0m\u001b[0;34m=\u001b[0m\u001b[0mh\u001b[0m\u001b[0;34m,\u001b[0m\u001b[0;34m\u001b[0m\u001b[0;34m\u001b[0m\u001b[0m\n\u001b[1;32m   2359\u001b[0m                 \u001b[0mfacecolor\u001b[0m\u001b[0;34m=\u001b[0m\u001b[0mc\u001b[0m\u001b[0;34m,\u001b[0m\u001b[0;34m\u001b[0m\u001b[0;34m\u001b[0m\u001b[0m\n",
      "\u001b[0;32m~/opt/anaconda3/lib/python3.9/site-packages/matplotlib/patches.py\u001b[0m in \u001b[0;36m__init__\u001b[0;34m(self, xy, width, height, angle, **kwargs)\u001b[0m\n\u001b[1;32m    756\u001b[0m         \u001b[0mself\u001b[0m\u001b[0;34m.\u001b[0m\u001b[0m_height\u001b[0m \u001b[0;34m=\u001b[0m \u001b[0mheight\u001b[0m\u001b[0;34m\u001b[0m\u001b[0;34m\u001b[0m\u001b[0m\n\u001b[1;32m    757\u001b[0m         \u001b[0mself\u001b[0m\u001b[0;34m.\u001b[0m\u001b[0mangle\u001b[0m \u001b[0;34m=\u001b[0m \u001b[0mfloat\u001b[0m\u001b[0;34m(\u001b[0m\u001b[0mangle\u001b[0m\u001b[0;34m)\u001b[0m\u001b[0;34m\u001b[0m\u001b[0;34m\u001b[0m\u001b[0m\n\u001b[0;32m--> 758\u001b[0;31m         \u001b[0mself\u001b[0m\u001b[0;34m.\u001b[0m\u001b[0m_convert_units\u001b[0m\u001b[0;34m(\u001b[0m\u001b[0;34m)\u001b[0m  \u001b[0;31m# Validate the inputs.\u001b[0m\u001b[0;34m\u001b[0m\u001b[0;34m\u001b[0m\u001b[0m\n\u001b[0m\u001b[1;32m    759\u001b[0m \u001b[0;34m\u001b[0m\u001b[0m\n\u001b[1;32m    760\u001b[0m     \u001b[0;32mdef\u001b[0m \u001b[0mget_path\u001b[0m\u001b[0;34m(\u001b[0m\u001b[0mself\u001b[0m\u001b[0;34m)\u001b[0m\u001b[0;34m:\u001b[0m\u001b[0;34m\u001b[0m\u001b[0;34m\u001b[0m\u001b[0m\n",
      "\u001b[0;32m~/opt/anaconda3/lib/python3.9/site-packages/matplotlib/patches.py\u001b[0m in \u001b[0;36m_convert_units\u001b[0;34m(self)\u001b[0m\n\u001b[1;32m    767\u001b[0m         \u001b[0my0\u001b[0m \u001b[0;34m=\u001b[0m \u001b[0mself\u001b[0m\u001b[0;34m.\u001b[0m\u001b[0mconvert_yunits\u001b[0m\u001b[0;34m(\u001b[0m\u001b[0mself\u001b[0m\u001b[0;34m.\u001b[0m\u001b[0m_y0\u001b[0m\u001b[0;34m)\u001b[0m\u001b[0;34m\u001b[0m\u001b[0;34m\u001b[0m\u001b[0m\n\u001b[1;32m    768\u001b[0m         \u001b[0mx1\u001b[0m \u001b[0;34m=\u001b[0m \u001b[0mself\u001b[0m\u001b[0;34m.\u001b[0m\u001b[0mconvert_xunits\u001b[0m\u001b[0;34m(\u001b[0m\u001b[0mself\u001b[0m\u001b[0;34m.\u001b[0m\u001b[0m_x0\u001b[0m \u001b[0;34m+\u001b[0m \u001b[0mself\u001b[0m\u001b[0;34m.\u001b[0m\u001b[0m_width\u001b[0m\u001b[0;34m)\u001b[0m\u001b[0;34m\u001b[0m\u001b[0;34m\u001b[0m\u001b[0m\n\u001b[0;32m--> 769\u001b[0;31m         \u001b[0my1\u001b[0m \u001b[0;34m=\u001b[0m \u001b[0mself\u001b[0m\u001b[0;34m.\u001b[0m\u001b[0mconvert_yunits\u001b[0m\u001b[0;34m(\u001b[0m\u001b[0mself\u001b[0m\u001b[0;34m.\u001b[0m\u001b[0m_y0\u001b[0m \u001b[0;34m+\u001b[0m \u001b[0mself\u001b[0m\u001b[0;34m.\u001b[0m\u001b[0m_height\u001b[0m\u001b[0;34m)\u001b[0m\u001b[0;34m\u001b[0m\u001b[0;34m\u001b[0m\u001b[0m\n\u001b[0m\u001b[1;32m    770\u001b[0m         \u001b[0;32mreturn\u001b[0m \u001b[0mx0\u001b[0m\u001b[0;34m,\u001b[0m \u001b[0my0\u001b[0m\u001b[0;34m,\u001b[0m \u001b[0mx1\u001b[0m\u001b[0;34m,\u001b[0m \u001b[0my1\u001b[0m\u001b[0;34m\u001b[0m\u001b[0;34m\u001b[0m\u001b[0m\n\u001b[1;32m    771\u001b[0m \u001b[0;34m\u001b[0m\u001b[0m\n",
      "\u001b[0;31mTypeError\u001b[0m: unsupported operand type(s) for +: 'int' and 'ObjectId'"
     ]
    },
    {
     "data": {
      "image/png": "[encoded data removed]",
      "text/plain": [
       "<Figure size 1476x252 with 1 Axes>"
      ]
     },
     "metadata": {
      "needs_background": "light"
     },
     "output_type": "display_data"
    }
   ],
   "source": [
    "import matplotlib.pyplot as plt\n",
    "from matplotlib import style\n",
    "\n",
    "\n",
    "#print(plt.style.available)\n",
    "\n",
    "plt.rcParams[\"figure.figsize\"] = [20.50, 3.50]\n",
    "plt.rcParams[\"figure.autolayout\"] = True\n",
    "plt.style.use('vibrant')\n",
    "plt.bar(range(len(VecesQueSeUsoXAuto)), list(VecesQueSeUsoXAuto.values()), align='center')\n",
    "plt.xticks(range(len(VecesQueSeUsoXAuto)), list(VecesQueSeUsoXAuto.keys()))\n",
    "plt.xticks(fontsize=10)\n",
    "plt.show()"
   ]
  }
 ],
 "metadata": {
  "interpreter": {
   "hash": "12e7b2db913c7cced4d5bf71ce365c438f2053887e824f813caa9208ccef4b13"
  },
  "kernelspec": {
   "display_name": "Python 3.9.7 ('base')",
   "language": "python",
   "name": "python3"
  },
  "language_info": {
   "codemirror_mode": {
    "name": "ipython",
    "version": 3
   },
   "file_extension": ".py",
   "mimetype": "text/x-python",
   "name": "python",
   "nbconvert_exporter": "python",
   "pygments_lexer": "ipython3",
   "version": "3.9.7"
  },
  "orig_nbformat": 4
 },
 "nbformat": 4,
 "nbformat_minor": 2
}
